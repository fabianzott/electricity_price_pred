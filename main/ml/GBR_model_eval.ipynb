{
 "cells": [
  {
   "cell_type": "markdown",
   "metadata": {},
   "source": [
    "# Gradient Boost Regressor - Model Evaluation"
   ]
  },
  {
   "cell_type": "code",
   "execution_count": 2,
   "metadata": {},
   "outputs": [
    {
     "name": "stdout",
     "output_type": "stream",
     "text": [
      "Loaded germany_electricity_generation_2018-2023.csv successfully.\n",
      "Loaded weather_north_hourly.csv successfully.\n",
      "Loaded weather_south_hourly.csv successfully.\n",
      "Loaded weather_brocken_hourly.csv successfully.\n",
      "Loaded holidays.csv successfully.\n",
      "Loaded PMI_germany.csv successfully.\n",
      "Loaded coal_price.csv successfully.\n",
      "Loaded ttf_price.csv successfully.\n",
      "Loaded oil_price.csv successfully.\n",
      "The DataFrame has 207264 rows before deleting NaN rows.\n",
      "The DataFrame has 207164 rows AFTER deleting NaN rows.\n"
     ]
    }
   ],
   "source": [
    "# standard modules\n",
    "import sys\n",
    "import os\n",
    "\n",
    "# data and vizualisation models\n",
    "import matplotlib.pyplot as plt\n",
    "import numpy as np\n",
    "import seaborn as sns\n",
    "import pandas as pd\n",
    "\n",
    "# machine learning\n",
    "from sklearn.model_selection import cross_validate, learning_curve, train_test_split\n",
    "from sklearn.linear_model import LinearRegression\n",
    "from sklearn.preprocessing import PolynomialFeatures\n",
    "\n",
    "# Get the current working directory\n",
    "current_dir = os.getcwd()\n",
    "\n",
    "# add 'main' to the path\n",
    "main_dir = os.path.dirname(current_dir)\n",
    "sys.path.append(main_dir)\n",
    "\n",
    "# data preprocessing and scaling\n",
    "from feature_engin.main_feature_engin import merge_all_datasets\n"
   ]
  },
  {
   "cell_type": "markdown",
   "metadata": {},
   "source": [
    "Downloading the preprocessed and scaled (only traget not scaled) dataset from Google Cloud Bucket"
   ]
  },
  {
   "cell_type": "code",
   "execution_count": 3,
   "metadata": {},
   "outputs": [
    {
     "name": "stdout",
     "output_type": "stream",
     "text": [
      "Loaded germany_electricity_generation_2018-2023.csv successfully.\n",
      "Loaded weather_north_hourly.csv successfully.\n",
      "Loaded weather_south_hourly.csv successfully.\n",
      "Loaded weather_brocken_hourly.csv successfully.\n",
      "Loaded holidays.csv successfully.\n",
      "Loaded PMI_germany.csv successfully.\n",
      "Loaded coal_price.csv successfully.\n",
      "Loaded ttf_price.csv successfully.\n",
      "Loaded oil_price.csv successfully.\n",
      "The DataFrame has 207264 rows before deleting NaN rows.\n",
      "The DataFrame has 207164 rows AFTER deleting NaN rows.\n"
     ]
    }
   ],
   "source": [
    "# fetching data\n",
    "raw_data = merge_all_datasets()\n"
   ]
  },
  {
   "cell_type": "markdown",
   "metadata": {},
   "source": [
    "Copying the data for security reasons"
   ]
  },
  {
   "cell_type": "code",
   "execution_count": 4,
   "metadata": {},
   "outputs": [],
   "source": [
    "# copying\n",
    "data = raw_data.copy()\n"
   ]
  },
  {
   "cell_type": "code",
   "execution_count": null,
   "metadata": {},
   "outputs": [],
   "source": [
    "### Cross-Correlation Matrix\n",
    "\n",
    "Creating a cross corelation\n"
   ]
  }
 ],
 "metadata": {
  "kernelspec": {
   "display_name": "Python 3",
   "language": "python",
   "name": "python3"
  },
  "language_info": {
   "codemirror_mode": {
    "name": "ipython",
    "version": 3
   },
   "file_extension": ".py",
   "mimetype": "text/x-python",
   "name": "python",
   "nbconvert_exporter": "python",
   "pygments_lexer": "ipython3",
   "version": "3.10.6"
  }
 },
 "nbformat": 4,
 "nbformat_minor": 2
}
