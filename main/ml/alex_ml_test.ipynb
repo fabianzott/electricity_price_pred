{
 "cells": [
  {
   "cell_type": "code",
   "execution_count": 2,
   "metadata": {},
   "outputs": [],
   "source": [
    "import matplotlib.pyplot as plt\n",
    "import numpy as np\n",
    "import seaborn as sns\n",
    "import pandas as pd\n",
    "\n",
    "from sklearn.model_selection import cross_validate, learning_curve, train_test_split\n",
    "from sklearn.linear_model import LinearRegression\n",
    "from sklearn.preprocessing import PolynomialFeatures\n"
   ]
  },
  {
   "cell_type": "code",
   "execution_count": 3,
   "metadata": {},
   "outputs": [
    {
     "name": "stdout",
     "output_type": "stream",
     "text": [
      "Loaded germany_electricity_generation_2018-2023.csv successfully.\n",
      "Loaded weather_north_hourly.csv successfully.\n",
      "Loaded weather_south_hourly.csv successfully.\n",
      "Loaded weather_brocken_hourly.csv successfully.\n",
      "Loaded holidays.csv successfully.\n",
      "Loaded PMI_germany.csv successfully.\n",
      "Loaded coal_price.csv successfully.\n",
      "Loaded ttf_price.csv successfully.\n",
      "Loaded oil_price.csv successfully.\n",
      "The DataFrame has 207264 rows before deleting NaN rows.\n",
      "The DataFrame has 207164 rows AFTER deleting NaN rows.\n",
      "Dataset saved to: fianal_ML_data.csv\n",
      "Loaded germany_electricity_generation_2018-2023.csv successfully.\n",
      "Loaded weather_north_hourly.csv successfully.\n",
      "Loaded weather_south_hourly.csv successfully.\n",
      "Loaded weather_brocken_hourly.csv successfully.\n",
      "Loaded holidays.csv successfully.\n",
      "Loaded PMI_germany.csv successfully.\n",
      "Loaded coal_price.csv successfully.\n",
      "Loaded ttf_price.csv successfully.\n",
      "Loaded oil_price.csv successfully.\n",
      "The DataFrame has 207264 rows before deleting NaN rows.\n",
      "The DataFrame has 207164 rows AFTER deleting NaN rows.\n"
     ]
    }
   ],
   "source": [
    "import sys\n",
    "import os\n",
    "\n",
    "# Get the current working directory\n",
    "current_dir = os.getcwd()\n",
    "\n",
    "# Assuming your notebook is in the 'feature_engin' directory,\n",
    "# and you want to add 'main' to the path\n",
    "main_dir = os.path.dirname(current_dir)\n",
    "sys.path.append(main_dir)\n",
    "\n",
    "from feature_engin.main_feature_engin import merge_all_datasets\n",
    "\n",
    "raw_data = merge_all_datasets()\n"
   ]
  },
  {
   "cell_type": "code",
   "execution_count": 4,
   "metadata": {},
   "outputs": [],
   "source": [
    "data = raw_data.copy()\n"
   ]
  },
  {
   "cell_type": "code",
   "execution_count": 5,
   "metadata": {},
   "outputs": [
    {
     "data": {
      "text/plain": [
       "geothermal                0.009678\n",
       "solar                     0.023719\n",
       "solarenergy_brocken       0.037248\n",
       "solarradiation_brocken    0.037518\n",
       "holiday                   0.039644\n",
       "temp_brocken              0.040015\n",
       "fractional_hour           0.041269\n",
       "others                    0.042110\n",
       "temp_north                0.044154\n",
       "temp_south                0.047608\n",
       "solarradiation_south      0.049336\n",
       "solarenergy_south         0.049683\n",
       "actual_pmi                0.053675\n",
       "load                      0.067852\n",
       "waste                     0.086675\n",
       "hydro_reservoir           0.103315\n",
       "day_of_week               0.106187\n",
       "windspeed_south           0.115083\n",
       "oil                       0.126654\n",
       "windspeed_north           0.130555\n",
       "week_of_year              0.133946\n",
       "wind_offshore             0.138390\n",
       "month                     0.141184\n",
       "ttf_volume                0.151949\n",
       "hydro                     0.152398\n",
       "lignite                   0.173607\n",
       "hydro_storage_out         0.180897\n",
       "windspeed_brocken         0.181456\n",
       "nat_gas                   0.201473\n",
       "biomass                   0.201738\n",
       "cross_border              0.227170\n",
       "hydro_storage_in          0.227412\n",
       "renewable_share_gen       0.239068\n",
       "wind_onshore              0.240735\n",
       "oil_volume                0.244642\n",
       "residual_load             0.254280\n",
       "renewable_share_load      0.266024\n",
       "coal_gas                  0.283795\n",
       "hard_coal                 0.293349\n",
       "nuclear                   0.341378\n",
       "year                      0.463048\n",
       "ttf_adj_close             0.579239\n",
       "oil_adj_close             0.582202\n",
       "coal_adj_close            0.773880\n",
       "day_ahead_price           1.000000\n",
       "Name: day_ahead_price, dtype: float64"
      ]
     },
     "execution_count": 5,
     "metadata": {},
     "output_type": "execute_result"
    }
   ],
   "source": [
    "# Calculate the correlation matrix\n",
    "corr_matrix = data.corr()\n",
    "\n",
    "# check cross-correlation with target\n",
    "corr_matrix[\"day_ahead_price\"].abs().sort_values()\n"
   ]
  },
  {
   "cell_type": "code",
   "execution_count": 6,
   "metadata": {},
   "outputs": [],
   "source": [
    "# Calculate the absolute correlation with the target variable\n",
    "target_corr = corr_matrix[\"day_ahead_price\"].abs()\n",
    "\n",
    "# Filter out features with correlation less than 0.1\n",
    "selected_features = target_corr[target_corr >= 0.1].index.tolist()\n",
    "\n",
    "\n",
    "# Create a new dataset with the selected features\n",
    "filtered_data = data[selected_features]\n"
   ]
  },
  {
   "cell_type": "code",
   "execution_count": 7,
   "metadata": {},
   "outputs": [
    {
     "name": "stdout",
     "output_type": "stream",
     "text": [
      "<class 'pandas.core.frame.DataFrame'>\n",
      "DatetimeIndex: 207164 entries, 2018-01-02 00:00:00+00:00 to 2023-11-29 10:45:00+00:00\n",
      "Data columns (total 30 columns):\n",
      " #   Column                Non-Null Count   Dtype  \n",
      "---  ------                --------------   -----  \n",
      " 0   day_of_week           207164 non-null  float64\n",
      " 1   week_of_year          207164 non-null  float64\n",
      " 2   month                 207164 non-null  float64\n",
      " 3   year                  207164 non-null  float64\n",
      " 4   hydro_storage_in      207164 non-null  float64\n",
      " 5   cross_border          207164 non-null  float64\n",
      " 6   nuclear               207164 non-null  float64\n",
      " 7   hydro                 207164 non-null  float64\n",
      " 8   biomass               207164 non-null  float64\n",
      " 9   lignite               207164 non-null  float64\n",
      " 10  hard_coal             207164 non-null  float64\n",
      " 11  oil                   207164 non-null  float64\n",
      " 12  coal_gas              207164 non-null  float64\n",
      " 13  nat_gas               207164 non-null  float64\n",
      " 14  hydro_reservoir       207164 non-null  float64\n",
      " 15  hydro_storage_out     207164 non-null  float64\n",
      " 16  wind_offshore         207164 non-null  float64\n",
      " 17  wind_onshore          207164 non-null  float64\n",
      " 18  residual_load         207164 non-null  float64\n",
      " 19  renewable_share_gen   207164 non-null  float64\n",
      " 20  renewable_share_load  207164 non-null  float64\n",
      " 21  day_ahead_price       207164 non-null  float64\n",
      " 22  windspeed_north       207164 non-null  float64\n",
      " 23  windspeed_south       207164 non-null  float64\n",
      " 24  windspeed_brocken     207164 non-null  float64\n",
      " 25  coal_adj_close        207164 non-null  float64\n",
      " 26  ttf_adj_close         207164 non-null  float64\n",
      " 27  ttf_volume            207164 non-null  float64\n",
      " 28  oil_adj_close         207164 non-null  float64\n",
      " 29  oil_volume            207164 non-null  float64\n",
      "dtypes: float64(30)\n",
      "memory usage: 49.0 MB\n"
     ]
    }
   ],
   "source": [
    "filtered_data.info()\n"
   ]
  },
  {
   "cell_type": "code",
   "execution_count": 8,
   "metadata": {},
   "outputs": [],
   "source": [
    "# Select 50% of the data randomly\n",
    "subset = filtered_data.sample(frac=1)\n",
    "\n",
    "# Prepare your feature set and target variable\n",
    "X = subset.drop(columns=['day_ahead_price'])\n",
    "y = subset['day_ahead_price']\n",
    "\n",
    "# Split the data into training and test sets\n",
    "X_train, X_test, y_train, y_test = train_test_split(X, y, test_size=0.2, random_state=42)\n"
   ]
  },
  {
   "cell_type": "code",
   "execution_count": 9,
   "metadata": {},
   "outputs": [
    {
     "data": {
      "text/plain": [
       "0.757863727886234"
      ]
     },
     "execution_count": 9,
     "metadata": {},
     "output_type": "execute_result"
    }
   ],
   "source": [
    "# Instantiate model\n",
    "model = LinearRegression()\n",
    "\n",
    "# 5-fold cross-validate model\n",
    "cv_results = cross_validate(model, X, y, cv=10)\n",
    "\n",
    "# Scores\n",
    "cv_results['test_score']\n",
    "\n",
    "# Mean of scores\n",
    "cv_score = cv_results['test_score'].mean()\n",
    "\n",
    "cv_score\n"
   ]
  },
  {
   "cell_type": "code",
   "execution_count": 10,
   "metadata": {},
   "outputs": [
    {
     "name": "stdout",
     "output_type": "stream",
     "text": [
      "Training Mean Squared Error: 110.95249898995584\n",
      "Training R-squared: 0.9887592463369509\n"
     ]
    },
    {
     "name": "stderr",
     "output_type": "stream",
     "text": [
      "/Users/sergeysechenov/.pyenv/versions/3.10.6/envs/elec_price_pred/lib/python3.10/site-packages/sklearn/neural_network/_multilayer_perceptron.py:691: ConvergenceWarning: Stochastic Optimizer: Maximum iterations (500) reached and the optimization hasn't converged yet.\n",
      "  warnings.warn(\n",
      "/Users/sergeysechenov/.pyenv/versions/3.10.6/envs/elec_price_pred/lib/python3.10/site-packages/sklearn/neural_network/_multilayer_perceptron.py:691: ConvergenceWarning: Stochastic Optimizer: Maximum iterations (500) reached and the optimization hasn't converged yet.\n",
      "  warnings.warn(\n",
      "/Users/sergeysechenov/.pyenv/versions/3.10.6/envs/elec_price_pred/lib/python3.10/site-packages/sklearn/neural_network/_multilayer_perceptron.py:698: UserWarning: Training interrupted by user.\n",
      "  warnings.warn(\"Training interrupted by user.\")\n"
     ]
    }
   ],
   "source": [
    "import numpy as np\n",
    "import matplotlib.pyplot as plt\n",
    "from sklearn.neural_network import MLPRegressor\n",
    "from sklearn.model_selection import learning_curve\n",
    "from sklearn.pipeline import Pipeline\n",
    "from sklearn.preprocessing import StandardScaler\n",
    "from sklearn.metrics import mean_squared_error, r2_score\n",
    "import joblib\n",
    "\n",
    "# Assuming X and y are your features and target variable\n",
    "\n",
    "# Define a neural network regressor\n",
    "nn_regressor = MLPRegressor(hidden_layer_sizes=(100, 50), max_iter=500, random_state=42)\n",
    "\n",
    "# Create a pipeline with a scaler and the neural network\n",
    "pipeline = Pipeline([\n",
    "    ('regressor', nn_regressor)\n",
    "])\n",
    "\n",
    "# Train the neural network using the pipeline\n",
    "pipeline.fit(X_train, y_train)\n",
    "\n",
    "# Evaluate the model\n",
    "y_train_pred = pipeline.predict(X_train)\n",
    "mse_train = mean_squared_error(y_train, y_train_pred)\n",
    "r2_train = r2_score(y_train, y_train_pred)\n",
    "\n",
    "print(f\"Training Mean Squared Error: {mse_train}\")\n",
    "print(f\"Training R-squared: {r2_train}\")\n",
    "\n",
    "# Save the model to a file\n",
    "joblib.dump(pipeline, 'nn_model.pkl')\n",
    "\n",
    "# Learning curve\n",
    "train_sizes, train_scores, validation_scores = learning_curve(\n",
    "    estimator=pipeline,\n",
    "    X=X_train,\n",
    "    y=y_train,\n",
    "    train_sizes=np.linspace(0.1, 1.0, 10),\n",
    "    cv=5,\n",
    "    scoring='r2'\n",
    ")\n",
    "\n",
    "# Plot the learning curve\n",
    "train_scores_mean = np.mean(train_scores, axis=1)\n",
    "train_scores_std = np.std(train_scores, axis=1)\n",
    "validation_scores_mean = np.mean(validation_scores, axis=1)\n",
    "validation_scores_std = np.std(validation_scores, axis=1)\n",
    "\n",
    "plt.figure(figsize=(8, 6))\n",
    "plt.plot(train_sizes, train_scores_mean, 'o-', color=\"r\", label=\"Training score\")\n",
    "plt.plot(train_sizes, validation_scores_mean, 'o-', color=\"g\", label=\"Cross-validation score\")\n",
    "\n",
    "plt.fill_between(train_sizes, train_scores_mean - train_scores_std, train_scores_mean + train_scores_std, alpha=0.1, color=\"r\")\n",
    "plt.fill_between(train_sizes, validation_scores_mean - validation_scores_std, validation_scores_mean + validation_scores_std, alpha=0.1, color=\"g\")\n",
    "\n",
    "plt.title(\"Learning Curve (Neural Network)\")\n",
    "plt.xlabel(\"Training Set Size\")\n",
    "plt.ylabel(\"R-squared Score\")\n",
    "plt.legend(loc=\"best\")\n",
    "plt.grid()\n",
    "plt.show()\n"
   ]
  },
  {
   "cell_type": "code",
   "execution_count": null,
   "metadata": {},
   "outputs": [],
   "source": []
  },
  {
   "cell_type": "code",
   "execution_count": 10,
   "metadata": {},
   "outputs": [
    {
     "name": "stdout",
     "output_type": "stream",
     "text": [
      "Training Mean Squared Error: 1863.9637548026353\n",
      "Training R-squared: 0.8099512245751916\n"
     ]
    },
    {
     "ename": "KeyboardInterrupt",
     "evalue": "",
     "output_type": "error",
     "traceback": [
      "\u001b[0;31m---------------------------------------------------------------------------\u001b[0m",
      "\u001b[0;31mKeyboardInterrupt\u001b[0m                         Traceback (most recent call last)",
      "\u001b[1;32m/Users/sergeysechenov/code/woshou/electricity_price_pred/main/ml/alex_ml_test.ipynb Ячейка 11\u001b[0m line \u001b[0;36m3\n\u001b[1;32m     <a href='vscode-notebook-cell:/Users/sergeysechenov/code/woshou/electricity_price_pred/main/ml/alex_ml_test.ipynb#X12sZmlsZQ%3D%3D?line=31'>32</a>\u001b[0m joblib\u001b[39m.\u001b[39mdump(pipeline, \u001b[39m'\u001b[39m\u001b[39msvr_model.pkl\u001b[39m\u001b[39m'\u001b[39m)\n\u001b[1;32m     <a href='vscode-notebook-cell:/Users/sergeysechenov/code/woshou/electricity_price_pred/main/ml/alex_ml_test.ipynb#X12sZmlsZQ%3D%3D?line=33'>34</a>\u001b[0m \u001b[39m# Learning curve\u001b[39;00m\n\u001b[0;32m---> <a href='vscode-notebook-cell:/Users/sergeysechenov/code/woshou/electricity_price_pred/main/ml/alex_ml_test.ipynb#X12sZmlsZQ%3D%3D?line=34'>35</a>\u001b[0m train_sizes, train_scores, validation_scores \u001b[39m=\u001b[39m learning_curve(\n\u001b[1;32m     <a href='vscode-notebook-cell:/Users/sergeysechenov/code/woshou/electricity_price_pred/main/ml/alex_ml_test.ipynb#X12sZmlsZQ%3D%3D?line=35'>36</a>\u001b[0m     estimator\u001b[39m=\u001b[39;49mpipeline,\n\u001b[1;32m     <a href='vscode-notebook-cell:/Users/sergeysechenov/code/woshou/electricity_price_pred/main/ml/alex_ml_test.ipynb#X12sZmlsZQ%3D%3D?line=36'>37</a>\u001b[0m     X\u001b[39m=\u001b[39;49mX_train,\n\u001b[1;32m     <a href='vscode-notebook-cell:/Users/sergeysechenov/code/woshou/electricity_price_pred/main/ml/alex_ml_test.ipynb#X12sZmlsZQ%3D%3D?line=37'>38</a>\u001b[0m     y\u001b[39m=\u001b[39;49my_train,\n\u001b[1;32m     <a href='vscode-notebook-cell:/Users/sergeysechenov/code/woshou/electricity_price_pred/main/ml/alex_ml_test.ipynb#X12sZmlsZQ%3D%3D?line=38'>39</a>\u001b[0m     train_sizes\u001b[39m=\u001b[39;49mnp\u001b[39m.\u001b[39;49mlinspace(\u001b[39m0.1\u001b[39;49m, \u001b[39m1.0\u001b[39;49m, \u001b[39m10\u001b[39;49m),\n\u001b[1;32m     <a href='vscode-notebook-cell:/Users/sergeysechenov/code/woshou/electricity_price_pred/main/ml/alex_ml_test.ipynb#X12sZmlsZQ%3D%3D?line=39'>40</a>\u001b[0m     cv\u001b[39m=\u001b[39;49m\u001b[39m5\u001b[39;49m,\n\u001b[1;32m     <a href='vscode-notebook-cell:/Users/sergeysechenov/code/woshou/electricity_price_pred/main/ml/alex_ml_test.ipynb#X12sZmlsZQ%3D%3D?line=40'>41</a>\u001b[0m     scoring\u001b[39m=\u001b[39;49m\u001b[39m'\u001b[39;49m\u001b[39mr2\u001b[39;49m\u001b[39m'\u001b[39;49m\n\u001b[1;32m     <a href='vscode-notebook-cell:/Users/sergeysechenov/code/woshou/electricity_price_pred/main/ml/alex_ml_test.ipynb#X12sZmlsZQ%3D%3D?line=41'>42</a>\u001b[0m )\n\u001b[1;32m     <a href='vscode-notebook-cell:/Users/sergeysechenov/code/woshou/electricity_price_pred/main/ml/alex_ml_test.ipynb#X12sZmlsZQ%3D%3D?line=43'>44</a>\u001b[0m \u001b[39m# Plot the learning curve\u001b[39;00m\n\u001b[1;32m     <a href='vscode-notebook-cell:/Users/sergeysechenov/code/woshou/electricity_price_pred/main/ml/alex_ml_test.ipynb#X12sZmlsZQ%3D%3D?line=44'>45</a>\u001b[0m train_scores_mean \u001b[39m=\u001b[39m np\u001b[39m.\u001b[39mmean(train_scores, axis\u001b[39m=\u001b[39m\u001b[39m1\u001b[39m)\n",
      "File \u001b[0;32m~/.pyenv/versions/3.10.6/envs/elec_price_pred/lib/python3.10/site-packages/sklearn/utils/_param_validation.py:211\u001b[0m, in \u001b[0;36mvalidate_params.<locals>.decorator.<locals>.wrapper\u001b[0;34m(*args, **kwargs)\u001b[0m\n\u001b[1;32m    205\u001b[0m \u001b[39mtry\u001b[39;00m:\n\u001b[1;32m    206\u001b[0m     \u001b[39mwith\u001b[39;00m config_context(\n\u001b[1;32m    207\u001b[0m         skip_parameter_validation\u001b[39m=\u001b[39m(\n\u001b[1;32m    208\u001b[0m             prefer_skip_nested_validation \u001b[39mor\u001b[39;00m global_skip_validation\n\u001b[1;32m    209\u001b[0m         )\n\u001b[1;32m    210\u001b[0m     ):\n\u001b[0;32m--> 211\u001b[0m         \u001b[39mreturn\u001b[39;00m func(\u001b[39m*\u001b[39;49margs, \u001b[39m*\u001b[39;49m\u001b[39m*\u001b[39;49mkwargs)\n\u001b[1;32m    212\u001b[0m \u001b[39mexcept\u001b[39;00m InvalidParameterError \u001b[39mas\u001b[39;00m e:\n\u001b[1;32m    213\u001b[0m     \u001b[39m# When the function is just a wrapper around an estimator, we allow\u001b[39;00m\n\u001b[1;32m    214\u001b[0m     \u001b[39m# the function to delegate validation to the estimator, but we replace\u001b[39;00m\n\u001b[1;32m    215\u001b[0m     \u001b[39m# the name of the estimator by the name of the function in the error\u001b[39;00m\n\u001b[1;32m    216\u001b[0m     \u001b[39m# message to avoid confusion.\u001b[39;00m\n\u001b[1;32m    217\u001b[0m     msg \u001b[39m=\u001b[39m re\u001b[39m.\u001b[39msub(\n\u001b[1;32m    218\u001b[0m         \u001b[39mr\u001b[39m\u001b[39m\"\u001b[39m\u001b[39mparameter of \u001b[39m\u001b[39m\\\u001b[39m\u001b[39mw+ must be\u001b[39m\u001b[39m\"\u001b[39m,\n\u001b[1;32m    219\u001b[0m         \u001b[39mf\u001b[39m\u001b[39m\"\u001b[39m\u001b[39mparameter of \u001b[39m\u001b[39m{\u001b[39;00mfunc\u001b[39m.\u001b[39m\u001b[39m__qualname__\u001b[39m\u001b[39m}\u001b[39;00m\u001b[39m must be\u001b[39m\u001b[39m\"\u001b[39m,\n\u001b[1;32m    220\u001b[0m         \u001b[39mstr\u001b[39m(e),\n\u001b[1;32m    221\u001b[0m     )\n",
      "File \u001b[0;32m~/.pyenv/versions/3.10.6/envs/elec_price_pred/lib/python3.10/site-packages/sklearn/model_selection/_validation.py:1683\u001b[0m, in \u001b[0;36mlearning_curve\u001b[0;34m(estimator, X, y, groups, train_sizes, cv, scoring, exploit_incremental_learning, n_jobs, pre_dispatch, verbose, shuffle, random_state, error_score, return_times, fit_params)\u001b[0m\n\u001b[1;32m   1680\u001b[0m     \u001b[39mfor\u001b[39;00m n_train_samples \u001b[39min\u001b[39;00m train_sizes_abs:\n\u001b[1;32m   1681\u001b[0m         train_test_proportions\u001b[39m.\u001b[39mappend((train[:n_train_samples], test))\n\u001b[0;32m-> 1683\u001b[0m results \u001b[39m=\u001b[39m parallel(\n\u001b[1;32m   1684\u001b[0m     delayed(_fit_and_score)(\n\u001b[1;32m   1685\u001b[0m         clone(estimator),\n\u001b[1;32m   1686\u001b[0m         X,\n\u001b[1;32m   1687\u001b[0m         y,\n\u001b[1;32m   1688\u001b[0m         scorer,\n\u001b[1;32m   1689\u001b[0m         train,\n\u001b[1;32m   1690\u001b[0m         test,\n\u001b[1;32m   1691\u001b[0m         verbose,\n\u001b[1;32m   1692\u001b[0m         parameters\u001b[39m=\u001b[39;49m\u001b[39mNone\u001b[39;49;00m,\n\u001b[1;32m   1693\u001b[0m         fit_params\u001b[39m=\u001b[39;49mfit_params,\n\u001b[1;32m   1694\u001b[0m         return_train_score\u001b[39m=\u001b[39;49m\u001b[39mTrue\u001b[39;49;00m,\n\u001b[1;32m   1695\u001b[0m         error_score\u001b[39m=\u001b[39;49merror_score,\n\u001b[1;32m   1696\u001b[0m         return_times\u001b[39m=\u001b[39;49mreturn_times,\n\u001b[1;32m   1697\u001b[0m     )\n\u001b[1;32m   1698\u001b[0m     \u001b[39mfor\u001b[39;49;00m train, test \u001b[39min\u001b[39;49;00m train_test_proportions\n\u001b[1;32m   1699\u001b[0m )\n\u001b[1;32m   1700\u001b[0m results \u001b[39m=\u001b[39m _aggregate_score_dicts(results)\n\u001b[1;32m   1701\u001b[0m train_scores \u001b[39m=\u001b[39m results[\u001b[39m\"\u001b[39m\u001b[39mtrain_scores\u001b[39m\u001b[39m\"\u001b[39m]\u001b[39m.\u001b[39mreshape(\u001b[39m-\u001b[39m\u001b[39m1\u001b[39m, n_unique_ticks)\u001b[39m.\u001b[39mT\n",
      "File \u001b[0;32m~/.pyenv/versions/3.10.6/envs/elec_price_pred/lib/python3.10/site-packages/sklearn/utils/parallel.py:65\u001b[0m, in \u001b[0;36mParallel.__call__\u001b[0;34m(self, iterable)\u001b[0m\n\u001b[1;32m     60\u001b[0m config \u001b[39m=\u001b[39m get_config()\n\u001b[1;32m     61\u001b[0m iterable_with_config \u001b[39m=\u001b[39m (\n\u001b[1;32m     62\u001b[0m     (_with_config(delayed_func, config), args, kwargs)\n\u001b[1;32m     63\u001b[0m     \u001b[39mfor\u001b[39;00m delayed_func, args, kwargs \u001b[39min\u001b[39;00m iterable\n\u001b[1;32m     64\u001b[0m )\n\u001b[0;32m---> 65\u001b[0m \u001b[39mreturn\u001b[39;00m \u001b[39msuper\u001b[39;49m()\u001b[39m.\u001b[39;49m\u001b[39m__call__\u001b[39;49m(iterable_with_config)\n",
      "File \u001b[0;32m~/.pyenv/versions/3.10.6/envs/elec_price_pred/lib/python3.10/site-packages/joblib/parallel.py:1863\u001b[0m, in \u001b[0;36mParallel.__call__\u001b[0;34m(self, iterable)\u001b[0m\n\u001b[1;32m   1861\u001b[0m     output \u001b[39m=\u001b[39m \u001b[39mself\u001b[39m\u001b[39m.\u001b[39m_get_sequential_output(iterable)\n\u001b[1;32m   1862\u001b[0m     \u001b[39mnext\u001b[39m(output)\n\u001b[0;32m-> 1863\u001b[0m     \u001b[39mreturn\u001b[39;00m output \u001b[39mif\u001b[39;00m \u001b[39mself\u001b[39m\u001b[39m.\u001b[39mreturn_generator \u001b[39melse\u001b[39;00m \u001b[39mlist\u001b[39;49m(output)\n\u001b[1;32m   1865\u001b[0m \u001b[39m# Let's create an ID that uniquely identifies the current call. If the\u001b[39;00m\n\u001b[1;32m   1866\u001b[0m \u001b[39m# call is interrupted early and that the same instance is immediately\u001b[39;00m\n\u001b[1;32m   1867\u001b[0m \u001b[39m# re-used, this id will be used to prevent workers that were\u001b[39;00m\n\u001b[1;32m   1868\u001b[0m \u001b[39m# concurrently finalizing a task from the previous call to run the\u001b[39;00m\n\u001b[1;32m   1869\u001b[0m \u001b[39m# callback.\u001b[39;00m\n\u001b[1;32m   1870\u001b[0m \u001b[39mwith\u001b[39;00m \u001b[39mself\u001b[39m\u001b[39m.\u001b[39m_lock:\n",
      "File \u001b[0;32m~/.pyenv/versions/3.10.6/envs/elec_price_pred/lib/python3.10/site-packages/joblib/parallel.py:1792\u001b[0m, in \u001b[0;36mParallel._get_sequential_output\u001b[0;34m(self, iterable)\u001b[0m\n\u001b[1;32m   1790\u001b[0m \u001b[39mself\u001b[39m\u001b[39m.\u001b[39mn_dispatched_batches \u001b[39m+\u001b[39m\u001b[39m=\u001b[39m \u001b[39m1\u001b[39m\n\u001b[1;32m   1791\u001b[0m \u001b[39mself\u001b[39m\u001b[39m.\u001b[39mn_dispatched_tasks \u001b[39m+\u001b[39m\u001b[39m=\u001b[39m \u001b[39m1\u001b[39m\n\u001b[0;32m-> 1792\u001b[0m res \u001b[39m=\u001b[39m func(\u001b[39m*\u001b[39;49margs, \u001b[39m*\u001b[39;49m\u001b[39m*\u001b[39;49mkwargs)\n\u001b[1;32m   1793\u001b[0m \u001b[39mself\u001b[39m\u001b[39m.\u001b[39mn_completed_tasks \u001b[39m+\u001b[39m\u001b[39m=\u001b[39m \u001b[39m1\u001b[39m\n\u001b[1;32m   1794\u001b[0m \u001b[39mself\u001b[39m\u001b[39m.\u001b[39mprint_progress()\n",
      "File \u001b[0;32m~/.pyenv/versions/3.10.6/envs/elec_price_pred/lib/python3.10/site-packages/sklearn/utils/parallel.py:127\u001b[0m, in \u001b[0;36m_FuncWrapper.__call__\u001b[0;34m(self, *args, **kwargs)\u001b[0m\n\u001b[1;32m    125\u001b[0m     config \u001b[39m=\u001b[39m {}\n\u001b[1;32m    126\u001b[0m \u001b[39mwith\u001b[39;00m config_context(\u001b[39m*\u001b[39m\u001b[39m*\u001b[39mconfig):\n\u001b[0;32m--> 127\u001b[0m     \u001b[39mreturn\u001b[39;00m \u001b[39mself\u001b[39;49m\u001b[39m.\u001b[39;49mfunction(\u001b[39m*\u001b[39;49margs, \u001b[39m*\u001b[39;49m\u001b[39m*\u001b[39;49mkwargs)\n",
      "File \u001b[0;32m~/.pyenv/versions/3.10.6/envs/elec_price_pred/lib/python3.10/site-packages/sklearn/model_selection/_validation.py:754\u001b[0m, in \u001b[0;36m_fit_and_score\u001b[0;34m(estimator, X, y, scorer, train, test, verbose, parameters, fit_params, return_train_score, return_parameters, return_n_test_samples, return_times, return_estimator, split_progress, candidate_progress, error_score)\u001b[0m\n\u001b[1;32m    752\u001b[0m     score_time \u001b[39m=\u001b[39m time\u001b[39m.\u001b[39mtime() \u001b[39m-\u001b[39m start_time \u001b[39m-\u001b[39m fit_time\n\u001b[1;32m    753\u001b[0m     \u001b[39mif\u001b[39;00m return_train_score:\n\u001b[0;32m--> 754\u001b[0m         train_scores \u001b[39m=\u001b[39m _score(estimator, X_train, y_train, scorer, error_score)\n\u001b[1;32m    756\u001b[0m \u001b[39mif\u001b[39;00m verbose \u001b[39m>\u001b[39m \u001b[39m1\u001b[39m:\n\u001b[1;32m    757\u001b[0m     total_time \u001b[39m=\u001b[39m score_time \u001b[39m+\u001b[39m fit_time\n",
      "File \u001b[0;32m~/.pyenv/versions/3.10.6/envs/elec_price_pred/lib/python3.10/site-packages/sklearn/model_selection/_validation.py:810\u001b[0m, in \u001b[0;36m_score\u001b[0;34m(estimator, X_test, y_test, scorer, error_score)\u001b[0m\n\u001b[1;32m    808\u001b[0m         scores \u001b[39m=\u001b[39m scorer(estimator, X_test)\n\u001b[1;32m    809\u001b[0m     \u001b[39melse\u001b[39;00m:\n\u001b[0;32m--> 810\u001b[0m         scores \u001b[39m=\u001b[39m scorer(estimator, X_test, y_test)\n\u001b[1;32m    811\u001b[0m \u001b[39mexcept\u001b[39;00m \u001b[39mException\u001b[39;00m:\n\u001b[1;32m    812\u001b[0m     \u001b[39mif\u001b[39;00m \u001b[39misinstance\u001b[39m(scorer, _MultimetricScorer):\n\u001b[1;32m    813\u001b[0m         \u001b[39m# If `_MultimetricScorer` raises exception, the `error_score`\u001b[39;00m\n\u001b[1;32m    814\u001b[0m         \u001b[39m# parameter is equal to \"raise\".\u001b[39;00m\n",
      "File \u001b[0;32m~/.pyenv/versions/3.10.6/envs/elec_price_pred/lib/python3.10/site-packages/sklearn/metrics/_scorer.py:266\u001b[0m, in \u001b[0;36m_BaseScorer.__call__\u001b[0;34m(self, estimator, X, y_true, sample_weight, **kwargs)\u001b[0m\n\u001b[1;32m    263\u001b[0m \u001b[39mif\u001b[39;00m sample_weight \u001b[39mis\u001b[39;00m \u001b[39mnot\u001b[39;00m \u001b[39mNone\u001b[39;00m:\n\u001b[1;32m    264\u001b[0m     _kwargs[\u001b[39m\"\u001b[39m\u001b[39msample_weight\u001b[39m\u001b[39m\"\u001b[39m] \u001b[39m=\u001b[39m sample_weight\n\u001b[0;32m--> 266\u001b[0m \u001b[39mreturn\u001b[39;00m \u001b[39mself\u001b[39;49m\u001b[39m.\u001b[39;49m_score(partial(_cached_call, \u001b[39mNone\u001b[39;49;00m), estimator, X, y_true, \u001b[39m*\u001b[39;49m\u001b[39m*\u001b[39;49m_kwargs)\n",
      "File \u001b[0;32m~/.pyenv/versions/3.10.6/envs/elec_price_pred/lib/python3.10/site-packages/sklearn/metrics/_scorer.py:353\u001b[0m, in \u001b[0;36m_PredictScorer._score\u001b[0;34m(self, method_caller, estimator, X, y_true, **kwargs)\u001b[0m\n\u001b[1;32m    316\u001b[0m \u001b[39m\u001b[39m\u001b[39m\"\"\"Evaluate predicted target values for X relative to y_true.\u001b[39;00m\n\u001b[1;32m    317\u001b[0m \n\u001b[1;32m    318\u001b[0m \u001b[39mParameters\u001b[39;00m\n\u001b[0;32m   (...)\u001b[0m\n\u001b[1;32m    343\u001b[0m \u001b[39m    Score function applied to prediction of estimator on X.\u001b[39;00m\n\u001b[1;32m    344\u001b[0m \u001b[39m\"\"\"\u001b[39;00m\n\u001b[1;32m    345\u001b[0m \u001b[39mself\u001b[39m\u001b[39m.\u001b[39m_warn_overlap(\n\u001b[1;32m    346\u001b[0m     message\u001b[39m=\u001b[39m(\n\u001b[1;32m    347\u001b[0m         \u001b[39m\"\u001b[39m\u001b[39mThere is an overlap between set kwargs of this scorer instance and\u001b[39m\u001b[39m\"\u001b[39m\n\u001b[0;32m   (...)\u001b[0m\n\u001b[1;32m    351\u001b[0m     kwargs\u001b[39m=\u001b[39mkwargs,\n\u001b[1;32m    352\u001b[0m )\n\u001b[0;32m--> 353\u001b[0m y_pred \u001b[39m=\u001b[39m method_caller(estimator, \u001b[39m\"\u001b[39;49m\u001b[39mpredict\u001b[39;49m\u001b[39m\"\u001b[39;49m, X)\n\u001b[1;32m    354\u001b[0m scoring_kwargs \u001b[39m=\u001b[39m {\u001b[39m*\u001b[39m\u001b[39m*\u001b[39m\u001b[39mself\u001b[39m\u001b[39m.\u001b[39m_kwargs, \u001b[39m*\u001b[39m\u001b[39m*\u001b[39mkwargs}\n\u001b[1;32m    355\u001b[0m \u001b[39mreturn\u001b[39;00m \u001b[39mself\u001b[39m\u001b[39m.\u001b[39m_sign \u001b[39m*\u001b[39m \u001b[39mself\u001b[39m\u001b[39m.\u001b[39m_score_func(y_true, y_pred, \u001b[39m*\u001b[39m\u001b[39m*\u001b[39mscoring_kwargs)\n",
      "File \u001b[0;32m~/.pyenv/versions/3.10.6/envs/elec_price_pred/lib/python3.10/site-packages/sklearn/metrics/_scorer.py:86\u001b[0m, in \u001b[0;36m_cached_call\u001b[0;34m(cache, estimator, response_method, *args, **kwargs)\u001b[0m\n\u001b[1;32m     83\u001b[0m \u001b[39mif\u001b[39;00m cache \u001b[39mis\u001b[39;00m \u001b[39mnot\u001b[39;00m \u001b[39mNone\u001b[39;00m \u001b[39mand\u001b[39;00m response_method \u001b[39min\u001b[39;00m cache:\n\u001b[1;32m     84\u001b[0m     \u001b[39mreturn\u001b[39;00m cache[response_method]\n\u001b[0;32m---> 86\u001b[0m result, _ \u001b[39m=\u001b[39m _get_response_values(\n\u001b[1;32m     87\u001b[0m     estimator, \u001b[39m*\u001b[39;49margs, response_method\u001b[39m=\u001b[39;49mresponse_method, \u001b[39m*\u001b[39;49m\u001b[39m*\u001b[39;49mkwargs\n\u001b[1;32m     88\u001b[0m )\n\u001b[1;32m     90\u001b[0m \u001b[39mif\u001b[39;00m cache \u001b[39mis\u001b[39;00m \u001b[39mnot\u001b[39;00m \u001b[39mNone\u001b[39;00m:\n\u001b[1;32m     91\u001b[0m     cache[response_method] \u001b[39m=\u001b[39m result\n",
      "File \u001b[0;32m~/.pyenv/versions/3.10.6/envs/elec_price_pred/lib/python3.10/site-packages/sklearn/utils/_response.py:218\u001b[0m, in \u001b[0;36m_get_response_values\u001b[0;34m(estimator, X, response_method, pos_label)\u001b[0m\n\u001b[1;32m    211\u001b[0m     \u001b[39mif\u001b[39;00m response_method \u001b[39m!=\u001b[39m \u001b[39m\"\u001b[39m\u001b[39mpredict\u001b[39m\u001b[39m\"\u001b[39m:\n\u001b[1;32m    212\u001b[0m         \u001b[39mraise\u001b[39;00m \u001b[39mValueError\u001b[39;00m(\n\u001b[1;32m    213\u001b[0m             \u001b[39mf\u001b[39m\u001b[39m\"\u001b[39m\u001b[39m{\u001b[39;00mestimator\u001b[39m.\u001b[39m\u001b[39m__class__\u001b[39m\u001b[39m.\u001b[39m\u001b[39m__name__\u001b[39m\u001b[39m}\u001b[39;00m\u001b[39m should either be a classifier to be \u001b[39m\u001b[39m\"\u001b[39m\n\u001b[1;32m    214\u001b[0m             \u001b[39mf\u001b[39m\u001b[39m\"\u001b[39m\u001b[39mused with response_method=\u001b[39m\u001b[39m{\u001b[39;00mresponse_method\u001b[39m}\u001b[39;00m\u001b[39m or the response_method \u001b[39m\u001b[39m\"\u001b[39m\n\u001b[1;32m    215\u001b[0m             \u001b[39m\"\u001b[39m\u001b[39mshould be \u001b[39m\u001b[39m'\u001b[39m\u001b[39mpredict\u001b[39m\u001b[39m'\u001b[39m\u001b[39m. Got a regressor with response_method=\u001b[39m\u001b[39m\"\u001b[39m\n\u001b[1;32m    216\u001b[0m             \u001b[39mf\u001b[39m\u001b[39m\"\u001b[39m\u001b[39m{\u001b[39;00mresponse_method\u001b[39m}\u001b[39;00m\u001b[39m instead.\u001b[39m\u001b[39m\"\u001b[39m\n\u001b[1;32m    217\u001b[0m         )\n\u001b[0;32m--> 218\u001b[0m     y_pred, pos_label \u001b[39m=\u001b[39m estimator\u001b[39m.\u001b[39;49mpredict(X), \u001b[39mNone\u001b[39;00m\n\u001b[1;32m    220\u001b[0m \u001b[39mreturn\u001b[39;00m y_pred, pos_label\n",
      "File \u001b[0;32m~/.pyenv/versions/3.10.6/envs/elec_price_pred/lib/python3.10/site-packages/sklearn/pipeline.py:515\u001b[0m, in \u001b[0;36mPipeline.predict\u001b[0;34m(self, X, **predict_params)\u001b[0m\n\u001b[1;32m    513\u001b[0m \u001b[39mfor\u001b[39;00m _, name, transform \u001b[39min\u001b[39;00m \u001b[39mself\u001b[39m\u001b[39m.\u001b[39m_iter(with_final\u001b[39m=\u001b[39m\u001b[39mFalse\u001b[39;00m):\n\u001b[1;32m    514\u001b[0m     Xt \u001b[39m=\u001b[39m transform\u001b[39m.\u001b[39mtransform(Xt)\n\u001b[0;32m--> 515\u001b[0m \u001b[39mreturn\u001b[39;00m \u001b[39mself\u001b[39;49m\u001b[39m.\u001b[39;49msteps[\u001b[39m-\u001b[39;49m\u001b[39m1\u001b[39;49m][\u001b[39m1\u001b[39;49m]\u001b[39m.\u001b[39;49mpredict(Xt, \u001b[39m*\u001b[39;49m\u001b[39m*\u001b[39;49mpredict_params)\n",
      "File \u001b[0;32m~/.pyenv/versions/3.10.6/envs/elec_price_pred/lib/python3.10/site-packages/sklearn/svm/_base.py:433\u001b[0m, in \u001b[0;36mBaseLibSVM.predict\u001b[0;34m(self, X)\u001b[0m\n\u001b[1;32m    431\u001b[0m X \u001b[39m=\u001b[39m \u001b[39mself\u001b[39m\u001b[39m.\u001b[39m_validate_for_predict(X)\n\u001b[1;32m    432\u001b[0m predict \u001b[39m=\u001b[39m \u001b[39mself\u001b[39m\u001b[39m.\u001b[39m_sparse_predict \u001b[39mif\u001b[39;00m \u001b[39mself\u001b[39m\u001b[39m.\u001b[39m_sparse \u001b[39melse\u001b[39;00m \u001b[39mself\u001b[39m\u001b[39m.\u001b[39m_dense_predict\n\u001b[0;32m--> 433\u001b[0m \u001b[39mreturn\u001b[39;00m predict(X)\n",
      "File \u001b[0;32m~/.pyenv/versions/3.10.6/envs/elec_price_pred/lib/python3.10/site-packages/sklearn/svm/_base.py:452\u001b[0m, in \u001b[0;36mBaseLibSVM._dense_predict\u001b[0;34m(self, X)\u001b[0m\n\u001b[1;32m    444\u001b[0m         \u001b[39mraise\u001b[39;00m \u001b[39mValueError\u001b[39;00m(\n\u001b[1;32m    445\u001b[0m             \u001b[39m\"\u001b[39m\u001b[39mX.shape[1] = \u001b[39m\u001b[39m%d\u001b[39;00m\u001b[39m should be equal to \u001b[39m\u001b[39m%d\u001b[39;00m\u001b[39m, \u001b[39m\u001b[39m\"\u001b[39m\n\u001b[1;32m    446\u001b[0m             \u001b[39m\"\u001b[39m\u001b[39mthe number of samples at training time\u001b[39m\u001b[39m\"\u001b[39m\n\u001b[1;32m    447\u001b[0m             \u001b[39m%\u001b[39m (X\u001b[39m.\u001b[39mshape[\u001b[39m1\u001b[39m], \u001b[39mself\u001b[39m\u001b[39m.\u001b[39mshape_fit_[\u001b[39m0\u001b[39m])\n\u001b[1;32m    448\u001b[0m         )\n\u001b[1;32m    450\u001b[0m svm_type \u001b[39m=\u001b[39m LIBSVM_IMPL\u001b[39m.\u001b[39mindex(\u001b[39mself\u001b[39m\u001b[39m.\u001b[39m_impl)\n\u001b[0;32m--> 452\u001b[0m \u001b[39mreturn\u001b[39;00m libsvm\u001b[39m.\u001b[39;49mpredict(\n\u001b[1;32m    453\u001b[0m     X,\n\u001b[1;32m    454\u001b[0m     \u001b[39mself\u001b[39;49m\u001b[39m.\u001b[39;49msupport_,\n\u001b[1;32m    455\u001b[0m     \u001b[39mself\u001b[39;49m\u001b[39m.\u001b[39;49msupport_vectors_,\n\u001b[1;32m    456\u001b[0m     \u001b[39mself\u001b[39;49m\u001b[39m.\u001b[39;49m_n_support,\n\u001b[1;32m    457\u001b[0m     \u001b[39mself\u001b[39;49m\u001b[39m.\u001b[39;49m_dual_coef_,\n\u001b[1;32m    458\u001b[0m     \u001b[39mself\u001b[39;49m\u001b[39m.\u001b[39;49m_intercept_,\n\u001b[1;32m    459\u001b[0m     \u001b[39mself\u001b[39;49m\u001b[39m.\u001b[39;49m_probA,\n\u001b[1;32m    460\u001b[0m     \u001b[39mself\u001b[39;49m\u001b[39m.\u001b[39;49m_probB,\n\u001b[1;32m    461\u001b[0m     svm_type\u001b[39m=\u001b[39;49msvm_type,\n\u001b[1;32m    462\u001b[0m     kernel\u001b[39m=\u001b[39;49mkernel,\n\u001b[1;32m    463\u001b[0m     degree\u001b[39m=\u001b[39;49m\u001b[39mself\u001b[39;49m\u001b[39m.\u001b[39;49mdegree,\n\u001b[1;32m    464\u001b[0m     coef0\u001b[39m=\u001b[39;49m\u001b[39mself\u001b[39;49m\u001b[39m.\u001b[39;49mcoef0,\n\u001b[1;32m    465\u001b[0m     gamma\u001b[39m=\u001b[39;49m\u001b[39mself\u001b[39;49m\u001b[39m.\u001b[39;49m_gamma,\n\u001b[1;32m    466\u001b[0m     cache_size\u001b[39m=\u001b[39;49m\u001b[39mself\u001b[39;49m\u001b[39m.\u001b[39;49mcache_size,\n\u001b[1;32m    467\u001b[0m )\n",
      "\u001b[0;31mKeyboardInterrupt\u001b[0m: "
     ]
    }
   ],
   "source": [
    "import numpy as np\n",
    "import matplotlib.pyplot as plt\n",
    "from sklearn.svm import SVR\n",
    "from sklearn.model_selection import learning_curve\n",
    "from sklearn.pipeline import Pipeline\n",
    "from sklearn.preprocessing import StandardScaler\n",
    "from sklearn.metrics import mean_squared_error, r2_score\n",
    "import joblib\n",
    "\n",
    "# Assuming X and y are your scaled features and target variable\n",
    "\n",
    "# Define a support vector regressor\n",
    "svr_regressor = SVR(kernel='rbf', C=1.0, epsilon=0.1)\n",
    "\n",
    "# Create a pipeline with a scaler and the support vector regressor\n",
    "pipeline = Pipeline([\n",
    "    ('regressor', svr_regressor)\n",
    "])\n",
    "\n",
    "# Train the support vector regressor using the pipeline\n",
    "pipeline.fit(X_train, y_train)\n",
    "\n",
    "# Evaluate the model\n",
    "y_train_pred = pipeline.predict(X_train)\n",
    "mse_train = mean_squared_error(y_train, y_train_pred)\n",
    "r2_train = r2_score(y_train, y_train_pred)\n",
    "\n",
    "print(f\"Training Mean Squared Error: {mse_train}\")\n",
    "print(f\"Training R-squared: {r2_train}\")\n",
    "\n",
    "# Save the model to a file\n",
    "joblib.dump(pipeline, 'svr_model.pkl')\n",
    "\n",
    "# Learning curve\n",
    "train_sizes, train_scores, validation_scores = learning_curve(\n",
    "    estimator=pipeline,\n",
    "    X=X_train,\n",
    "    y=y_train,\n",
    "    train_sizes=np.linspace(0.1, 1.0, 10),\n",
    "    cv=5,\n",
    "    scoring='r2'\n",
    ")\n",
    "\n",
    "# Plot the learning curve\n",
    "train_scores_mean = np.mean(train_scores, axis=1)\n",
    "train_scores_std = np.std(train_scores, axis=1)\n",
    "validation_scores_mean = np.mean(validation_scores, axis=1)\n",
    "validation_scores_std = np.std(validation_scores, axis=1)\n",
    "\n",
    "plt.figure(figsize=(8, 6))\n",
    "plt.plot(train_sizes, train_scores_mean, 'o-', color=\"r\", label=\"Training score\")\n",
    "plt.plot(train_sizes, validation_scores_mean, 'o-', color=\"g\", label=\"Cross-validation score\")\n",
    "\n",
    "plt.fill_between(train_sizes, train_scores_mean - train_scores_std, train_scores_mean + train_scores_std, alpha=0.1, color=\"r\")\n",
    "plt.fill_between(train_sizes, validation_scores_mean - validation_scores_std, validation_scores_mean + validation_scores_std, alpha=0.1, color=\"g\")\n",
    "\n",
    "plt.title(\"Learning Curve (SVR)\")\n",
    "plt.xlabel(\"Training Set Size\")\n",
    "plt.ylabel(\"R-squared Score\")\n",
    "plt.legend(loc=\"best\")\n",
    "plt.grid()\n",
    "plt.show()\n"
   ]
  },
  {
   "cell_type": "code",
   "execution_count": null,
   "metadata": {},
   "outputs": [],
   "source": []
  }
 ],
 "metadata": {
  "kernelspec": {
   "display_name": "elec_price_pred",
   "language": "python",
   "name": "python3"
  },
  "language_info": {
   "codemirror_mode": {
    "name": "ipython",
    "version": 3
   },
   "file_extension": ".py",
   "mimetype": "text/x-python",
   "name": "python",
   "nbconvert_exporter": "python",
   "pygments_lexer": "ipython3",
   "version": "3.10.6"
  }
 },
 "nbformat": 4,
 "nbformat_minor": 2
}
