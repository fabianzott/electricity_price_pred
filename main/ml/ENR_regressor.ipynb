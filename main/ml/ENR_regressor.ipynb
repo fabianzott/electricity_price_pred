{
 "cells": [
  {
   "cell_type": "code",
   "execution_count": 18,
   "metadata": {},
   "outputs": [],
   "source": [
    "# standard modules\n",
    "import sys\n",
    "import os\n",
    "\n",
    "# data and vizualisation models\n",
    "import matplotlib.pyplot as plt\n",
    "import numpy as np\n",
    "import seaborn as sns\n",
    "import pandas as pd\n",
    "\n",
    "# machine learning\n",
    "import joblib\n",
    "from sklearn.preprocessing import StandardScaler, PolynomialFeatures\n",
    "from sklearn.model_selection import cross_validate, learning_curve, train_test_split, GridSearchCV, cross_val_score\n",
    "from sklearn.linear_model import LinearRegression\n",
    "from sklearn.metrics import mean_squared_error, r2_score\n",
    "from sklearn.ensemble import GradientBoostingRegressor\n",
    "\n",
    "\n",
    "# Get the current working directory\n",
    "current_dir = os.getcwd()\n",
    "\n",
    "# add 'main' to the path\n",
    "main_dir = os.path.dirname(current_dir)\n",
    "sys.path.append(main_dir)\n",
    "\n",
    "# data preprocessing and scaling\n",
    "from feature_engin.feature_import import combine_dataframes\n"
   ]
  },
  {
   "cell_type": "code",
   "execution_count": 19,
   "metadata": {},
   "outputs": [
    {
     "name": "stdout",
     "output_type": "stream",
     "text": [
      "Loaded coal_price.csv successfully.\n",
      "Loaded ttf_price.csv successfully.\n",
      "Loaded oil_price.csv successfully.\n",
      "Loaded germany_electricity_generation_2018-2023.csv successfully.\n",
      "Loaded holidays.csv successfully.\n",
      "Loaded PMI_germany.csv successfully.\n",
      "Loaded weather_north_hourly.csv successfully.\n",
      "Loaded weather_south_hourly.csv successfully.\n",
      "Loaded weather_brocken_hourly.csv successfully.\n"
     ]
    }
   ],
   "source": [
    "# fetching data\n",
    "raw_data = combine_dataframes()\n"
   ]
  },
  {
   "cell_type": "code",
   "execution_count": 20,
   "metadata": {},
   "outputs": [
    {
     "name": "stdout",
     "output_type": "stream",
     "text": [
      "<class 'pandas.core.frame.DataFrame'>\n",
      "DatetimeIndex: 199389 entries, 2018-01-02 00:00:00+00:00 to 2023-11-22 00:00:00+00:00\n",
      "Data columns (total 45 columns):\n",
      " #   Column                  Non-Null Count   Dtype  \n",
      "---  ------                  --------------   -----  \n",
      " 0   coal_adj_close          199389 non-null  float64\n",
      " 1   ttf_adj_close           199389 non-null  float64\n",
      " 2   ttf_volume              199389 non-null  float64\n",
      " 3   oil_adj_close           199389 non-null  float64\n",
      " 4   oil_volume              199389 non-null  float64\n",
      " 5   fractional_hour         199389 non-null  float64\n",
      " 6   day_of_week             199389 non-null  float64\n",
      " 7   week_of_year            199389 non-null  float64\n",
      " 8   month                   199389 non-null  float64\n",
      " 9   year                    199389 non-null  float64\n",
      " 10  hydro_storage_in        199389 non-null  float64\n",
      " 11  cross_border            199389 non-null  float64\n",
      " 12  nuclear                 199389 non-null  float64\n",
      " 13  hydro                   199389 non-null  float64\n",
      " 14  biomass                 199389 non-null  float64\n",
      " 15  lignite                 199389 non-null  float64\n",
      " 16  hard_coal               199389 non-null  float64\n",
      " 17  oil                     199389 non-null  float64\n",
      " 18  coal_gas                199389 non-null  float64\n",
      " 19  nat_gas                 199389 non-null  float64\n",
      " 20  geothermal              199389 non-null  float64\n",
      " 21  hydro_reservoir         199389 non-null  float64\n",
      " 22  hydro_storage_out       199389 non-null  float64\n",
      " 23  others                  199389 non-null  float64\n",
      " 24  waste                   199389 non-null  float64\n",
      " 25  wind_offshore           199389 non-null  float64\n",
      " 26  wind_onshore            199389 non-null  float64\n",
      " 27  solar                   199389 non-null  float64\n",
      " 28  load                    199389 non-null  float64\n",
      " 29  residual_load           199389 non-null  float64\n",
      " 30  renewable_share_gen     199389 non-null  float64\n",
      " 31  renewable_share_load    199389 non-null  float64\n",
      " 32  day_ahead_price         199389 non-null  float64\n",
      " 33  holiday                 199389 non-null  float64\n",
      " 34  actual_pmi              199389 non-null  float64\n",
      " 35  temp_north              199389 non-null  float64\n",
      " 36  windspeed_north         199389 non-null  float64\n",
      " 37  temp_south              199389 non-null  float64\n",
      " 38  windspeed_south         199389 non-null  float64\n",
      " 39  solarradiation_south    199389 non-null  float64\n",
      " 40  solarenergy_south       199389 non-null  float64\n",
      " 41  temp_brocken            199389 non-null  float64\n",
      " 42  windspeed_brocken       199389 non-null  float64\n",
      " 43  solarradiation_brocken  199389 non-null  float64\n",
      " 44  solarenergy_brocken     199389 non-null  float64\n",
      "dtypes: float64(45)\n",
      "memory usage: 70.0 MB\n"
     ]
    }
   ],
   "source": [
    "# copying\n",
    "data = raw_data.copy()\n",
    "data.info()\n"
   ]
  },
  {
   "cell_type": "code",
   "execution_count": 4,
   "metadata": {},
   "outputs": [
    {
     "data": {
      "text/plain": [
       "2018-01-02 00:00:00+00:00     14.99\n",
       "2018-01-02 00:15:00+00:00     14.99\n",
       "2018-01-02 00:30:00+00:00     14.99\n",
       "2018-01-02 00:45:00+00:00     14.99\n",
       "2018-01-02 01:00:00+00:00     13.63\n",
       "                              ...  \n",
       "2023-11-29 09:45:00+00:00    133.72\n",
       "2023-11-29 10:00:00+00:00    130.00\n",
       "2023-11-29 10:15:00+00:00    130.00\n",
       "2023-11-29 10:30:00+00:00    130.00\n",
       "2023-11-29 10:45:00+00:00    130.00\n",
       "Name: day_ahead_price, Length: 207164, dtype: float64"
      ]
     },
     "execution_count": 4,
     "metadata": {},
     "output_type": "execute_result"
    }
   ],
   "source": [
    "# checking if feature is unscaled\n",
    "data[\"day_ahead_price\"]\n"
   ]
  },
  {
   "cell_type": "code",
   "execution_count": 5,
   "metadata": {},
   "outputs": [
    {
     "data": {
      "text/plain": [
       "2018-01-02 00:00:00+00:00   -0.759007\n",
       "2018-01-02 00:15:00+00:00   -0.759007\n",
       "2018-01-02 00:30:00+00:00   -0.759007\n",
       "2018-01-02 00:45:00+00:00   -0.759007\n",
       "2018-01-02 01:00:00+00:00   -0.772712\n",
       "                               ...   \n",
       "2023-11-29 09:45:00+00:00    0.437455\n",
       "2023-11-29 10:00:00+00:00    0.399968\n",
       "2023-11-29 10:15:00+00:00    0.399968\n",
       "2023-11-29 10:30:00+00:00    0.399968\n",
       "2023-11-29 10:45:00+00:00    0.399968\n",
       "Name: day_ahead_price_scaled, Length: 207164, dtype: float64"
      ]
     },
     "execution_count": 5,
     "metadata": {},
     "output_type": "execute_result"
    }
   ],
   "source": [
    "# scale data with StandardScaler\n",
    "scaler = StandardScaler()\n",
    "\n",
    "# Reshape data[\"day_ahead_price\"] to a 2D array as scaler expects 2D inputs\n",
    "day_ahead_price_scaled = scaler.fit_transform(data[\"day_ahead_price\"].values.reshape(-1, 1))\n",
    "\n",
    "# Replace the original target variable in the dataframe with the scaled values\n",
    "data[\"day_ahead_price_scaled\"] = day_ahead_price_scaled.flatten()\n",
    "\n",
    "# save the unscaled data in an df for later use\n",
    "unscaled_target = data[['day_ahead_price']].copy()\n",
    "\n",
    "# drop unscaled target from data\n",
    "data.drop('day_ahead_price', axis=1, inplace=True)\n",
    "\n",
    "data[\"day_ahead_price_scaled\"]\n"
   ]
  },
  {
   "cell_type": "code",
   "execution_count": 6,
   "metadata": {},
   "outputs": [
    {
     "name": "stdout",
     "output_type": "stream",
     "text": [
      "<class 'pandas.core.frame.DataFrame'>\n",
      "DatetimeIndex: 207164 entries, 2018-01-02 00:00:00+00:00 to 2023-11-29 10:45:00+00:00\n",
      "Data columns (total 30 columns):\n",
      " #   Column                  Non-Null Count   Dtype  \n",
      "---  ------                  --------------   -----  \n",
      " 0   day_of_week             207164 non-null  float64\n",
      " 1   week_of_year            207164 non-null  float64\n",
      " 2   month                   207164 non-null  float64\n",
      " 3   year                    207164 non-null  float64\n",
      " 4   hydro_storage_in        207164 non-null  float64\n",
      " 5   cross_border            207164 non-null  float64\n",
      " 6   nuclear                 207164 non-null  float64\n",
      " 7   hydro                   207164 non-null  float64\n",
      " 8   biomass                 207164 non-null  float64\n",
      " 9   lignite                 207164 non-null  float64\n",
      " 10  hard_coal               207164 non-null  float64\n",
      " 11  oil                     207164 non-null  float64\n",
      " 12  coal_gas                207164 non-null  float64\n",
      " 13  nat_gas                 207164 non-null  float64\n",
      " 14  hydro_reservoir         207164 non-null  float64\n",
      " 15  hydro_storage_out       207164 non-null  float64\n",
      " 16  wind_offshore           207164 non-null  float64\n",
      " 17  wind_onshore            207164 non-null  float64\n",
      " 18  residual_load           207164 non-null  float64\n",
      " 19  renewable_share_gen     207164 non-null  float64\n",
      " 20  renewable_share_load    207164 non-null  float64\n",
      " 21  windspeed_north         207164 non-null  float64\n",
      " 22  windspeed_south         207164 non-null  float64\n",
      " 23  windspeed_brocken       207164 non-null  float64\n",
      " 24  coal_adj_close          207164 non-null  float64\n",
      " 25  ttf_adj_close           207164 non-null  float64\n",
      " 26  ttf_volume              207164 non-null  float64\n",
      " 27  oil_adj_close           207164 non-null  float64\n",
      " 28  oil_volume              207164 non-null  float64\n",
      " 29  day_ahead_price_scaled  207164 non-null  float64\n",
      "dtypes: float64(30)\n",
      "memory usage: 49.0 MB\n"
     ]
    }
   ],
   "source": [
    "# Calculate the correlation matrix\n",
    "corr_matrix = data.corr()\n",
    "\n",
    "# check cross-correlation with target\n",
    "corr_matrix[\"day_ahead_price_scaled\"].abs().sort_values()\n",
    "\n",
    "# Calculate the absolute correlation with the target variable\n",
    "target_corr = corr_matrix[\"day_ahead_price_scaled\"].abs()\n",
    "\n",
    "# Filter out features with correlation less than 0.1\n",
    "selected_features = target_corr[target_corr >= 0.1].index.tolist()\n",
    "\n",
    "# Create a new dataset with the selected features\n",
    "data = data[selected_features]\n",
    "\n",
    "# before 43 features -> now 28\n",
    "data.info()\n"
   ]
  },
  {
   "cell_type": "code",
   "execution_count": 7,
   "metadata": {},
   "outputs": [
    {
     "name": "stdout",
     "output_type": "stream",
     "text": [
      "Data up to the last two weeks: 205820\n",
      "Last two weeks data: 1344\n"
     ]
    }
   ],
   "source": [
    "# sortby the datetime index\n",
    "data = data.sort_index()\n",
    "\n",
    "# Identify the Split Point\n",
    "split_date = data.index.max() - pd.Timedelta(weeks=2)\n",
    "\n",
    "data_mod = data[data.index <= split_date]\n",
    "last_two_weeks_data = data[data.index > split_date]\n",
    "\n",
    "# Check the number of entries in the split datasets\n",
    "print(\"Data up to the last two weeks:\", data_mod.shape[0])\n",
    "print(\"Last two weeks data:\", last_two_weeks_data.shape[0])\n"
   ]
  },
  {
   "cell_type": "code",
   "execution_count": 8,
   "metadata": {},
   "outputs": [],
   "source": [
    "# Prepare your feature set and target variable\n",
    "X = data_mod.drop(columns=['day_ahead_price_scaled'])\n",
    "y = data_mod['day_ahead_price_scaled']\n",
    "\n",
    "# Split the data into training and test sets\n",
    "X_train, X_test, y_train, y_test = train_test_split(X, y, test_size=0.2, random_state=42)\n"
   ]
  },
  {
   "cell_type": "markdown",
   "metadata": {},
   "source": [
    "# Elastic Net Regression"
   ]
  },
  {
   "cell_type": "code",
   "execution_count": 9,
   "metadata": {},
   "outputs": [],
   "source": [
    "from sklearn.linear_model import ElasticNet\n",
    "\n",
    "elastic_net_model = ElasticNet(random_state=42)\n",
    "\n",
    "param_grid = {\n",
    "    'alpha': [0.1, 0.5, 1, 2, 5, 10],\n",
    "    'l1_ratio': [0.1, 0.3, 0.5, 0.7, 0.9]\n",
    "}\n",
    "\n",
    "from sklearn.model_selection import GridSearchCV\n",
    "\n",
    "grid_search = GridSearchCV(estimator=elastic_net_model, param_grid=param_grid, cv=5, scoring='r2', n_jobs=-1, verbose=2)\n"
   ]
  },
  {
   "cell_type": "code",
   "execution_count": 10,
   "metadata": {},
   "outputs": [
    {
     "name": "stdout",
     "output_type": "stream",
     "text": [
      "Fitting 5 folds for each of 30 candidates, totalling 150 fits\n",
      "[CV] END ............................alpha=0.1, l1_ratio=0.3; total time=   3.0s\n",
      "[CV] END ............................alpha=0.1, l1_ratio=0.1; total time=   3.9s\n",
      "[CV] END ............................alpha=0.1, l1_ratio=0.3; total time=   3.6s\n",
      "[CV] END ............................alpha=0.1, l1_ratio=0.1; total time=   4.1s\n",
      "[CV] END ............................alpha=0.1, l1_ratio=0.3; total time=   3.9s\n",
      "[CV] END ............................alpha=0.1, l1_ratio=0.1; total time=   4.9s\n",
      "[CV] END ............................alpha=0.1, l1_ratio=0.1; total time=   5.0s\n",
      "[CV] END ............................alpha=0.1, l1_ratio=0.1; total time=   5.2s\n",
      "[CV] END ............................alpha=0.1, l1_ratio=0.3; total time=   3.0s\n",
      "[CV] END ............................alpha=0.1, l1_ratio=0.5; total time=   2.9s\n",
      "[CV] END ............................alpha=0.1, l1_ratio=0.3; total time=   3.0s\n",
      "[CV] END ............................alpha=0.1, l1_ratio=0.5; total time=   3.0s\n",
      "[CV] END ............................alpha=0.1, l1_ratio=0.5; total time=   3.4s\n",
      "[CV] END ............................alpha=0.1, l1_ratio=0.7; total time=   2.7s\n",
      "[CV] END ............................alpha=0.1, l1_ratio=0.7; total time=   2.6s\n",
      "[CV] END ............................alpha=0.1, l1_ratio=0.5; total time=   3.4s\n",
      "[CV] END ............................alpha=0.1, l1_ratio=0.5; total time=   3.4s\n",
      "[CV] END ............................alpha=0.1, l1_ratio=0.7; total time=   2.7s\n",
      "[CV] END ............................alpha=0.1, l1_ratio=0.7; total time=   2.7s\n",
      "[CV] END ............................alpha=0.1, l1_ratio=0.9; total time=   2.1s\n",
      "[CV] END ............................alpha=0.1, l1_ratio=0.7; total time=   3.0s\n",
      "[CV] END ............................alpha=0.1, l1_ratio=0.9; total time=   2.1s\n",
      "[CV] END ............................alpha=0.1, l1_ratio=0.9; total time=   1.9s\n",
      "[CV] END ............................alpha=0.1, l1_ratio=0.9; total time=   2.2s\n",
      "[CV] END ............................alpha=0.5, l1_ratio=0.1; total time=   1.7s\n",
      "[CV] END ............................alpha=0.5, l1_ratio=0.1; total time=   1.7s\n",
      "[CV] END ............................alpha=0.1, l1_ratio=0.9; total time=   2.2s\n",
      "[CV] END ............................alpha=0.5, l1_ratio=0.3; total time=   1.3s\n",
      "[CV] END ............................alpha=0.5, l1_ratio=0.1; total time=   1.8s\n",
      "[CV] END ............................alpha=0.5, l1_ratio=0.1; total time=   2.0s\n",
      "[CV] END ............................alpha=0.5, l1_ratio=0.1; total time=   2.0s\n",
      "[CV] END ............................alpha=0.5, l1_ratio=0.3; total time=   1.5s\n",
      "[CV] END ............................alpha=0.5, l1_ratio=0.5; total time=   0.6s\n",
      "[CV] END ............................alpha=0.5, l1_ratio=0.5; total time=   0.8s\n",
      "[CV] END ............................alpha=0.5, l1_ratio=0.3; total time=   1.4s\n",
      "[CV] END ............................alpha=0.5, l1_ratio=0.3; total time=   1.4s\n",
      "[CV] END ............................alpha=0.5, l1_ratio=0.5; total time=   0.8s\n",
      "[CV] END ............................alpha=0.5, l1_ratio=0.3; total time=   1.6s\n",
      "[CV] END ............................alpha=0.5, l1_ratio=0.5; total time=   0.5s\n",
      "[CV] END ............................alpha=0.5, l1_ratio=0.5; total time=   0.5s\n",
      "[CV] END ............................alpha=0.5, l1_ratio=0.7; total time=   0.4s\n",
      "[CV] END ............................alpha=0.5, l1_ratio=0.7; total time=   0.4s\n",
      "[CV] END ............................alpha=0.5, l1_ratio=0.7; total time=   0.5s\n",
      "[CV] END ............................alpha=0.5, l1_ratio=0.7; total time=   0.5s\n",
      "[CV] END ............................alpha=0.5, l1_ratio=0.7; total time=   0.5s\n",
      "[CV] END ............................alpha=0.5, l1_ratio=0.9; total time=   0.4s\n",
      "[CV] END ............................alpha=0.5, l1_ratio=0.9; total time=   0.4s\n",
      "[CV] END ............................alpha=0.5, l1_ratio=0.9; total time=   0.4s\n",
      "[CV] END ............................alpha=0.5, l1_ratio=0.9; total time=   0.4s\n",
      "[CV] END ............................alpha=0.5, l1_ratio=0.9; total time=   0.5s\n",
      "[CV] END ..............................alpha=1, l1_ratio=0.3; total time=   0.6s\n",
      "[CV] END ..............................alpha=1, l1_ratio=0.3; total time=   0.6s\n",
      "[CV] END ..............................alpha=1, l1_ratio=0.3; total time=   0.6s\n",
      "[CV] END ..............................alpha=1, l1_ratio=0.1; total time=   1.2s\n",
      "[CV] END ..............................alpha=1, l1_ratio=0.1; total time=   1.1s\n",
      "[CV] END ..............................alpha=1, l1_ratio=0.1; total time=   1.1s\n",
      "[CV] END ..............................alpha=1, l1_ratio=0.1; total time=   1.2s\n",
      "[CV] END ..............................alpha=1, l1_ratio=0.1; total time=   1.3s\n",
      "[CV] END ..............................alpha=1, l1_ratio=0.3; total time=   0.6s\n",
      "[CV] END ..............................alpha=1, l1_ratio=0.5; total time=   0.4s\n",
      "[CV] END ..............................alpha=1, l1_ratio=0.5; total time=   0.4s\n",
      "[CV] END ..............................alpha=1, l1_ratio=0.5; total time=   0.5s\n",
      "[CV] END ..............................alpha=1, l1_ratio=0.5; total time=   0.4s\n",
      "[CV] END ..............................alpha=1, l1_ratio=0.5; total time=   0.3s\n",
      "[CV] END ..............................alpha=1, l1_ratio=0.3; total time=   0.6s\n",
      "[CV] END ..............................alpha=1, l1_ratio=0.7; total time=   0.4s\n",
      "[CV] END ..............................alpha=1, l1_ratio=0.7; total time=   0.3s\n",
      "[CV] END ..............................alpha=1, l1_ratio=0.7; total time=   0.4s\n",
      "[CV] END ..............................alpha=1, l1_ratio=0.7; total time=   0.3s\n",
      "[CV] END ..............................alpha=1, l1_ratio=0.9; total time=   0.3s\n",
      "[CV] END ..............................alpha=1, l1_ratio=0.7; total time=   0.4s\n",
      "[CV] END ..............................alpha=1, l1_ratio=0.9; total time=   0.4s\n",
      "[CV] END ..............................alpha=1, l1_ratio=0.9; total time=   0.4s\n",
      "[CV] END ..............................alpha=1, l1_ratio=0.9; total time=   0.3s\n",
      "[CV] END ..............................alpha=1, l1_ratio=0.9; total time=   0.4s\n",
      "[CV] END ..............................alpha=2, l1_ratio=0.3; total time=   0.4s\n",
      "[CV] END ..............................alpha=2, l1_ratio=0.1; total time=   0.7s\n",
      "[CV] END ..............................alpha=2, l1_ratio=0.1; total time=   0.6s\n",
      "[CV] END ..............................alpha=2, l1_ratio=0.3; total time=   0.4s\n",
      "[CV] END ..............................alpha=2, l1_ratio=0.1; total time=   0.8s\n",
      "[CV] END ..............................alpha=2, l1_ratio=0.1; total time=   0.8s\n",
      "[CV] END ..............................alpha=2, l1_ratio=0.1; total time=   0.7s\n",
      "[CV] END ..............................alpha=2, l1_ratio=0.3; total time=   0.4s\n",
      "[CV] END ..............................alpha=2, l1_ratio=0.3; total time=   0.3s\n",
      "[CV] END ..............................alpha=2, l1_ratio=0.5; total time=   0.3s\n",
      "[CV] END ..............................alpha=2, l1_ratio=0.3; total time=   0.3s\n",
      "[CV] END ..............................alpha=2, l1_ratio=0.5; total time=   0.4s\n",
      "[CV] END ..............................alpha=2, l1_ratio=0.5; total time=   0.4s\n",
      "[CV] END ..............................alpha=2, l1_ratio=0.5; total time=   0.4s\n",
      "[CV] END ..............................alpha=2, l1_ratio=0.7; total time=   0.4s\n",
      "[CV] END ..............................alpha=2, l1_ratio=0.7; total time=   0.4s\n",
      "[CV] END ..............................alpha=2, l1_ratio=0.5; total time=   0.5s\n",
      "[CV] END ..............................alpha=2, l1_ratio=0.7; total time=   0.4s\n",
      "[CV] END ..............................alpha=2, l1_ratio=0.7; total time=   0.4s\n",
      "[CV] END ..............................alpha=2, l1_ratio=0.7; total time=   0.3s\n",
      "[CV] END ..............................alpha=2, l1_ratio=0.9; total time=   0.3s\n",
      "[CV] END ..............................alpha=2, l1_ratio=0.9; total time=   0.4s\n",
      "[CV] END ..............................alpha=2, l1_ratio=0.9; total time=   0.4s\n",
      "[CV] END ..............................alpha=2, l1_ratio=0.9; total time=   0.4s\n",
      "[CV] END ..............................alpha=2, l1_ratio=0.9; total time=   0.4s\n",
      "[CV] END ..............................alpha=5, l1_ratio=0.1; total time=   0.3s\n",
      "[CV] END ..............................alpha=5, l1_ratio=0.1; total time=   0.4s\n",
      "[CV] END ..............................alpha=5, l1_ratio=0.1; total time=   0.5s\n",
      "[CV] END ..............................alpha=5, l1_ratio=0.1; total time=   0.3s\n",
      "[CV] END ..............................alpha=5, l1_ratio=0.3; total time=   0.4s\n",
      "[CV] END ..............................alpha=5, l1_ratio=0.1; total time=   0.5s\n",
      "[CV] END ..............................alpha=5, l1_ratio=0.3; total time=   0.5s\n",
      "[CV] END ..............................alpha=5, l1_ratio=0.3; total time=   0.4s\n",
      "[CV] END ..............................alpha=5, l1_ratio=0.3; total time=   0.5s\n",
      "[CV] END ..............................alpha=5, l1_ratio=0.3; total time=   0.4s\n",
      "[CV] END ..............................alpha=5, l1_ratio=0.5; total time=   0.3s\n",
      "[CV] END ..............................alpha=5, l1_ratio=0.5; total time=   0.5s\n",
      "[CV] END ..............................alpha=5, l1_ratio=0.5; total time=   0.3s\n",
      "[CV] END ..............................alpha=5, l1_ratio=0.5; total time=   0.4s\n",
      "[CV] END ..............................alpha=5, l1_ratio=0.7; total time=   0.3s\n",
      "[CV] END ..............................alpha=5, l1_ratio=0.7; total time=   0.3s\n",
      "[CV] END ..............................alpha=5, l1_ratio=0.5; total time=   0.5s\n",
      "[CV] END ..............................alpha=5, l1_ratio=0.7; total time=   0.5s\n",
      "[CV] END ..............................alpha=5, l1_ratio=0.9; total time=   0.3s\n",
      "[CV] END ..............................alpha=5, l1_ratio=0.7; total time=   0.5s\n",
      "[CV] END ..............................alpha=5, l1_ratio=0.9; total time=   0.3s\n",
      "[CV] END ..............................alpha=5, l1_ratio=0.9; total time=   0.4s\n",
      "[CV] END ..............................alpha=5, l1_ratio=0.7; total time=   0.5s\n",
      "[CV] END ..............................alpha=5, l1_ratio=0.9; total time=   0.3s\n",
      "[CV] END ..............................alpha=5, l1_ratio=0.9; total time=   0.4s\n",
      "[CV] END .............................alpha=10, l1_ratio=0.1; total time=   0.5s\n",
      "[CV] END .............................alpha=10, l1_ratio=0.1; total time=   0.4s\n",
      "[CV] END .............................alpha=10, l1_ratio=0.3; total time=   0.4s\n",
      "[CV] END .............................alpha=10, l1_ratio=0.3; total time=   0.4s\n",
      "[CV] END .............................alpha=10, l1_ratio=0.1; total time=   0.5s\n",
      "[CV] END .............................alpha=10, l1_ratio=0.3; total time=   0.3s\n",
      "[CV] END .............................alpha=10, l1_ratio=0.1; total time=   0.5s\n",
      "[CV] END .............................alpha=10, l1_ratio=0.1; total time=   0.5s\n",
      "[CV] END .............................alpha=10, l1_ratio=0.3; total time=   0.4s\n",
      "[CV] END .............................alpha=10, l1_ratio=0.5; total time=   0.3s\n",
      "[CV] END .............................alpha=10, l1_ratio=0.5; total time=   0.3s\n",
      "[CV] END .............................alpha=10, l1_ratio=0.5; total time=   0.3s\n",
      "[CV] END .............................alpha=10, l1_ratio=0.3; total time=   0.7s\n",
      "[CV] END .............................alpha=10, l1_ratio=0.7; total time=   0.4s\n",
      "[CV] END .............................alpha=10, l1_ratio=0.5; total time=   0.6s\n",
      "[CV] END .............................alpha=10, l1_ratio=0.5; total time=   0.6s\n",
      "[CV] END .............................alpha=10, l1_ratio=0.7; total time=   0.4s\n",
      "[CV] END .............................alpha=10, l1_ratio=0.7; total time=   0.4s\n",
      "[CV] END .............................alpha=10, l1_ratio=0.7; total time=   0.6s\n",
      "[CV] END .............................alpha=10, l1_ratio=0.7; total time=   0.4s\n",
      "[CV] END .............................alpha=10, l1_ratio=0.9; total time=   0.4s\n",
      "[CV] END .............................alpha=10, l1_ratio=0.9; total time=   0.3s\n",
      "[CV] END .............................alpha=10, l1_ratio=0.9; total time=   0.3s\n",
      "[CV] END .............................alpha=10, l1_ratio=0.9; total time=   0.3s\n",
      "[CV] END .............................alpha=10, l1_ratio=0.9; total time=   0.2s\n"
     ]
    },
    {
     "data": {
      "text/html": [
       "<style>#sk-container-id-1 {color: black;}#sk-container-id-1 pre{padding: 0;}#sk-container-id-1 div.sk-toggleable {background-color: white;}#sk-container-id-1 label.sk-toggleable__label {cursor: pointer;display: block;width: 100%;margin-bottom: 0;padding: 0.3em;box-sizing: border-box;text-align: center;}#sk-container-id-1 label.sk-toggleable__label-arrow:before {content: \"▸\";float: left;margin-right: 0.25em;color: #696969;}#sk-container-id-1 label.sk-toggleable__label-arrow:hover:before {color: black;}#sk-container-id-1 div.sk-estimator:hover label.sk-toggleable__label-arrow:before {color: black;}#sk-container-id-1 div.sk-toggleable__content {max-height: 0;max-width: 0;overflow: hidden;text-align: left;background-color: #f0f8ff;}#sk-container-id-1 div.sk-toggleable__content pre {margin: 0.2em;color: black;border-radius: 0.25em;background-color: #f0f8ff;}#sk-container-id-1 input.sk-toggleable__control:checked~div.sk-toggleable__content {max-height: 200px;max-width: 100%;overflow: auto;}#sk-container-id-1 input.sk-toggleable__control:checked~label.sk-toggleable__label-arrow:before {content: \"▾\";}#sk-container-id-1 div.sk-estimator input.sk-toggleable__control:checked~label.sk-toggleable__label {background-color: #d4ebff;}#sk-container-id-1 div.sk-label input.sk-toggleable__control:checked~label.sk-toggleable__label {background-color: #d4ebff;}#sk-container-id-1 input.sk-hidden--visually {border: 0;clip: rect(1px 1px 1px 1px);clip: rect(1px, 1px, 1px, 1px);height: 1px;margin: -1px;overflow: hidden;padding: 0;position: absolute;width: 1px;}#sk-container-id-1 div.sk-estimator {font-family: monospace;background-color: #f0f8ff;border: 1px dotted black;border-radius: 0.25em;box-sizing: border-box;margin-bottom: 0.5em;}#sk-container-id-1 div.sk-estimator:hover {background-color: #d4ebff;}#sk-container-id-1 div.sk-parallel-item::after {content: \"\";width: 100%;border-bottom: 1px solid gray;flex-grow: 1;}#sk-container-id-1 div.sk-label:hover label.sk-toggleable__label {background-color: #d4ebff;}#sk-container-id-1 div.sk-serial::before {content: \"\";position: absolute;border-left: 1px solid gray;box-sizing: border-box;top: 0;bottom: 0;left: 50%;z-index: 0;}#sk-container-id-1 div.sk-serial {display: flex;flex-direction: column;align-items: center;background-color: white;padding-right: 0.2em;padding-left: 0.2em;position: relative;}#sk-container-id-1 div.sk-item {position: relative;z-index: 1;}#sk-container-id-1 div.sk-parallel {display: flex;align-items: stretch;justify-content: center;background-color: white;position: relative;}#sk-container-id-1 div.sk-item::before, #sk-container-id-1 div.sk-parallel-item::before {content: \"\";position: absolute;border-left: 1px solid gray;box-sizing: border-box;top: 0;bottom: 0;left: 50%;z-index: -1;}#sk-container-id-1 div.sk-parallel-item {display: flex;flex-direction: column;z-index: 1;position: relative;background-color: white;}#sk-container-id-1 div.sk-parallel-item:first-child::after {align-self: flex-end;width: 50%;}#sk-container-id-1 div.sk-parallel-item:last-child::after {align-self: flex-start;width: 50%;}#sk-container-id-1 div.sk-parallel-item:only-child::after {width: 0;}#sk-container-id-1 div.sk-dashed-wrapped {border: 1px dashed gray;margin: 0 0.4em 0.5em 0.4em;box-sizing: border-box;padding-bottom: 0.4em;background-color: white;}#sk-container-id-1 div.sk-label label {font-family: monospace;font-weight: bold;display: inline-block;line-height: 1.2em;}#sk-container-id-1 div.sk-label-container {text-align: center;}#sk-container-id-1 div.sk-container {/* jupyter's `normalize.less` sets `[hidden] { display: none; }` but bootstrap.min.css set `[hidden] { display: none !important; }` so we also need the `!important` here to be able to override the default hidden behavior on the sphinx rendered scikit-learn.org. See: https://github.com/scikit-learn/scikit-learn/issues/21755 */display: inline-block !important;position: relative;}#sk-container-id-1 div.sk-text-repr-fallback {display: none;}</style><div id=\"sk-container-id-1\" class=\"sk-top-container\"><div class=\"sk-text-repr-fallback\"><pre>GridSearchCV(cv=5, estimator=ElasticNet(random_state=42), n_jobs=-1,\n",
       "             param_grid={&#x27;alpha&#x27;: [0.1, 0.5, 1, 2, 5, 10],\n",
       "                         &#x27;l1_ratio&#x27;: [0.1, 0.3, 0.5, 0.7, 0.9]},\n",
       "             scoring=&#x27;r2&#x27;, verbose=2)</pre><b>In a Jupyter environment, please rerun this cell to show the HTML representation or trust the notebook. <br />On GitHub, the HTML representation is unable to render, please try loading this page with nbviewer.org.</b></div><div class=\"sk-container\" hidden><div class=\"sk-item sk-dashed-wrapped\"><div class=\"sk-label-container\"><div class=\"sk-label sk-toggleable\"><input class=\"sk-toggleable__control sk-hidden--visually\" id=\"sk-estimator-id-1\" type=\"checkbox\" ><label for=\"sk-estimator-id-1\" class=\"sk-toggleable__label sk-toggleable__label-arrow\">GridSearchCV</label><div class=\"sk-toggleable__content\"><pre>GridSearchCV(cv=5, estimator=ElasticNet(random_state=42), n_jobs=-1,\n",
       "             param_grid={&#x27;alpha&#x27;: [0.1, 0.5, 1, 2, 5, 10],\n",
       "                         &#x27;l1_ratio&#x27;: [0.1, 0.3, 0.5, 0.7, 0.9]},\n",
       "             scoring=&#x27;r2&#x27;, verbose=2)</pre></div></div></div><div class=\"sk-parallel\"><div class=\"sk-parallel-item\"><div class=\"sk-item\"><div class=\"sk-label-container\"><div class=\"sk-label sk-toggleable\"><input class=\"sk-toggleable__control sk-hidden--visually\" id=\"sk-estimator-id-2\" type=\"checkbox\" ><label for=\"sk-estimator-id-2\" class=\"sk-toggleable__label sk-toggleable__label-arrow\">estimator: ElasticNet</label><div class=\"sk-toggleable__content\"><pre>ElasticNet(random_state=42)</pre></div></div></div><div class=\"sk-serial\"><div class=\"sk-item\"><div class=\"sk-estimator sk-toggleable\"><input class=\"sk-toggleable__control sk-hidden--visually\" id=\"sk-estimator-id-3\" type=\"checkbox\" ><label for=\"sk-estimator-id-3\" class=\"sk-toggleable__label sk-toggleable__label-arrow\">ElasticNet</label><div class=\"sk-toggleable__content\"><pre>ElasticNet(random_state=42)</pre></div></div></div></div></div></div></div></div></div></div>"
      ],
      "text/plain": [
       "GridSearchCV(cv=5, estimator=ElasticNet(random_state=42), n_jobs=-1,\n",
       "             param_grid={'alpha': [0.1, 0.5, 1, 2, 5, 10],\n",
       "                         'l1_ratio': [0.1, 0.3, 0.5, 0.7, 0.9]},\n",
       "             scoring='r2', verbose=2)"
      ]
     },
     "execution_count": 10,
     "metadata": {},
     "output_type": "execute_result"
    }
   ],
   "source": [
    "grid_search.fit(X_train, y_train)\n"
   ]
  },
  {
   "cell_type": "code",
   "execution_count": 11,
   "metadata": {},
   "outputs": [
    {
     "name": "stdout",
     "output_type": "stream",
     "text": [
      "Mean Squared Error:  0.4178797452987884\n",
      "R-squared:  0.5961372387130774\n"
     ]
    }
   ],
   "source": [
    "best_elastic_net = grid_search.best_estimator_\n",
    "y_pred = best_elastic_net.predict(X_test)\n",
    "\n",
    "# Evaluate the model\n",
    "from sklearn.metrics import mean_squared_error, r2_score\n",
    "\n",
    "mse = mean_squared_error(y_test, y_pred)\n",
    "r2 = r2_score(y_test, y_pred)\n",
    "\n",
    "print(\"Mean Squared Error: \", mse)\n",
    "print(\"R-squared: \", r2)\n"
   ]
  },
  {
   "cell_type": "markdown",
   "metadata": {},
   "source": [
    "# Support Vector Machines (SVM) for Regression (SVR)"
   ]
  },
  {
   "cell_type": "code",
   "execution_count": 13,
   "metadata": {},
   "outputs": [],
   "source": [
    "from sklearn.svm import SVR\n"
   ]
  },
  {
   "cell_type": "code",
   "execution_count": 14,
   "metadata": {},
   "outputs": [],
   "source": [
    "svr_model = SVR()\n"
   ]
  },
  {
   "cell_type": "code",
   "execution_count": 15,
   "metadata": {},
   "outputs": [],
   "source": [
    "param_grid = {\n",
    "    'C': [0.1, 1, 10, 100],\n",
    "    'epsilon': [0.001, 0.01, 0.1, 1],\n",
    "    'kernel': ['rbf', 'linear', 'poly']\n",
    "}\n"
   ]
  },
  {
   "cell_type": "code",
   "execution_count": 16,
   "metadata": {},
   "outputs": [],
   "source": [
    "from sklearn.model_selection import GridSearchCV\n",
    "\n",
    "grid_search = GridSearchCV(estimator=svr_model, param_grid=param_grid, cv=5, scoring='r2', n_jobs=-1, verbose=2)\n"
   ]
  },
  {
   "cell_type": "code",
   "execution_count": 17,
   "metadata": {},
   "outputs": [
    {
     "name": "stdout",
     "output_type": "stream",
     "text": [
      "Fitting 5 folds for each of 48 candidates, totalling 240 fits\n"
     ]
    },
    {
     "ename": "KeyboardInterrupt",
     "evalue": "",
     "output_type": "error",
     "traceback": [
      "\u001b[0;31m---------------------------------------------------------------------------\u001b[0m",
      "\u001b[0;31mKeyboardInterrupt\u001b[0m                         Traceback (most recent call last)",
      "\u001b[1;32m/home/fabian/code/fabianzott/electricity_price_pred/main/ml/ENR_regressor.ipynb Cell 18\u001b[0m line \u001b[0;36m1\n\u001b[0;32m----> <a href='vscode-notebook-cell://wsl%2Bubuntu-preview/home/fabian/code/fabianzott/electricity_price_pred/main/ml/ENR_regressor.ipynb#X23sdnNjb2RlLXJlbW90ZQ%3D%3D?line=0'>1</a>\u001b[0m grid_search\u001b[39m.\u001b[39;49mfit(X_train, y_train)\n",
      "File \u001b[0;32m~/.pyenv/versions/lewagon/lib/python3.10/site-packages/sklearn/base.py:1152\u001b[0m, in \u001b[0;36m_fit_context.<locals>.decorator.<locals>.wrapper\u001b[0;34m(estimator, *args, **kwargs)\u001b[0m\n\u001b[1;32m   1145\u001b[0m     estimator\u001b[39m.\u001b[39m_validate_params()\n\u001b[1;32m   1147\u001b[0m \u001b[39mwith\u001b[39;00m config_context(\n\u001b[1;32m   1148\u001b[0m     skip_parameter_validation\u001b[39m=\u001b[39m(\n\u001b[1;32m   1149\u001b[0m         prefer_skip_nested_validation \u001b[39mor\u001b[39;00m global_skip_validation\n\u001b[1;32m   1150\u001b[0m     )\n\u001b[1;32m   1151\u001b[0m ):\n\u001b[0;32m-> 1152\u001b[0m     \u001b[39mreturn\u001b[39;00m fit_method(estimator, \u001b[39m*\u001b[39;49margs, \u001b[39m*\u001b[39;49m\u001b[39m*\u001b[39;49mkwargs)\n",
      "File \u001b[0;32m~/.pyenv/versions/lewagon/lib/python3.10/site-packages/sklearn/model_selection/_search.py:898\u001b[0m, in \u001b[0;36mBaseSearchCV.fit\u001b[0;34m(self, X, y, groups, **fit_params)\u001b[0m\n\u001b[1;32m    892\u001b[0m     results \u001b[39m=\u001b[39m \u001b[39mself\u001b[39m\u001b[39m.\u001b[39m_format_results(\n\u001b[1;32m    893\u001b[0m         all_candidate_params, n_splits, all_out, all_more_results\n\u001b[1;32m    894\u001b[0m     )\n\u001b[1;32m    896\u001b[0m     \u001b[39mreturn\u001b[39;00m results\n\u001b[0;32m--> 898\u001b[0m \u001b[39mself\u001b[39;49m\u001b[39m.\u001b[39;49m_run_search(evaluate_candidates)\n\u001b[1;32m    900\u001b[0m \u001b[39m# multimetric is determined here because in the case of a callable\u001b[39;00m\n\u001b[1;32m    901\u001b[0m \u001b[39m# self.scoring the return type is only known after calling\u001b[39;00m\n\u001b[1;32m    902\u001b[0m first_test_score \u001b[39m=\u001b[39m all_out[\u001b[39m0\u001b[39m][\u001b[39m\"\u001b[39m\u001b[39mtest_scores\u001b[39m\u001b[39m\"\u001b[39m]\n",
      "File \u001b[0;32m~/.pyenv/versions/lewagon/lib/python3.10/site-packages/sklearn/model_selection/_search.py:1422\u001b[0m, in \u001b[0;36mGridSearchCV._run_search\u001b[0;34m(self, evaluate_candidates)\u001b[0m\n\u001b[1;32m   1420\u001b[0m \u001b[39mdef\u001b[39;00m \u001b[39m_run_search\u001b[39m(\u001b[39mself\u001b[39m, evaluate_candidates):\n\u001b[1;32m   1421\u001b[0m     \u001b[39m\"\"\"Search all candidates in param_grid\"\"\"\u001b[39;00m\n\u001b[0;32m-> 1422\u001b[0m     evaluate_candidates(ParameterGrid(\u001b[39mself\u001b[39;49m\u001b[39m.\u001b[39;49mparam_grid))\n",
      "File \u001b[0;32m~/.pyenv/versions/lewagon/lib/python3.10/site-packages/sklearn/model_selection/_search.py:845\u001b[0m, in \u001b[0;36mBaseSearchCV.fit.<locals>.evaluate_candidates\u001b[0;34m(candidate_params, cv, more_results)\u001b[0m\n\u001b[1;32m    837\u001b[0m \u001b[39mif\u001b[39;00m \u001b[39mself\u001b[39m\u001b[39m.\u001b[39mverbose \u001b[39m>\u001b[39m \u001b[39m0\u001b[39m:\n\u001b[1;32m    838\u001b[0m     \u001b[39mprint\u001b[39m(\n\u001b[1;32m    839\u001b[0m         \u001b[39m\"\u001b[39m\u001b[39mFitting \u001b[39m\u001b[39m{0}\u001b[39;00m\u001b[39m folds for each of \u001b[39m\u001b[39m{1}\u001b[39;00m\u001b[39m candidates,\u001b[39m\u001b[39m\"\u001b[39m\n\u001b[1;32m    840\u001b[0m         \u001b[39m\"\u001b[39m\u001b[39m totalling \u001b[39m\u001b[39m{2}\u001b[39;00m\u001b[39m fits\u001b[39m\u001b[39m\"\u001b[39m\u001b[39m.\u001b[39mformat(\n\u001b[1;32m    841\u001b[0m             n_splits, n_candidates, n_candidates \u001b[39m*\u001b[39m n_splits\n\u001b[1;32m    842\u001b[0m         )\n\u001b[1;32m    843\u001b[0m     )\n\u001b[0;32m--> 845\u001b[0m out \u001b[39m=\u001b[39m parallel(\n\u001b[1;32m    846\u001b[0m     delayed(_fit_and_score)(\n\u001b[1;32m    847\u001b[0m         clone(base_estimator),\n\u001b[1;32m    848\u001b[0m         X,\n\u001b[1;32m    849\u001b[0m         y,\n\u001b[1;32m    850\u001b[0m         train\u001b[39m=\u001b[39;49mtrain,\n\u001b[1;32m    851\u001b[0m         test\u001b[39m=\u001b[39;49mtest,\n\u001b[1;32m    852\u001b[0m         parameters\u001b[39m=\u001b[39;49mparameters,\n\u001b[1;32m    853\u001b[0m         split_progress\u001b[39m=\u001b[39;49m(split_idx, n_splits),\n\u001b[1;32m    854\u001b[0m         candidate_progress\u001b[39m=\u001b[39;49m(cand_idx, n_candidates),\n\u001b[1;32m    855\u001b[0m         \u001b[39m*\u001b[39;49m\u001b[39m*\u001b[39;49mfit_and_score_kwargs,\n\u001b[1;32m    856\u001b[0m     )\n\u001b[1;32m    857\u001b[0m     \u001b[39mfor\u001b[39;49;00m (cand_idx, parameters), (split_idx, (train, test)) \u001b[39min\u001b[39;49;00m product(\n\u001b[1;32m    858\u001b[0m         \u001b[39menumerate\u001b[39;49m(candidate_params), \u001b[39menumerate\u001b[39;49m(cv\u001b[39m.\u001b[39;49msplit(X, y, groups))\n\u001b[1;32m    859\u001b[0m     )\n\u001b[1;32m    860\u001b[0m )\n\u001b[1;32m    862\u001b[0m \u001b[39mif\u001b[39;00m \u001b[39mlen\u001b[39m(out) \u001b[39m<\u001b[39m \u001b[39m1\u001b[39m:\n\u001b[1;32m    863\u001b[0m     \u001b[39mraise\u001b[39;00m \u001b[39mValueError\u001b[39;00m(\n\u001b[1;32m    864\u001b[0m         \u001b[39m\"\u001b[39m\u001b[39mNo fits were performed. \u001b[39m\u001b[39m\"\u001b[39m\n\u001b[1;32m    865\u001b[0m         \u001b[39m\"\u001b[39m\u001b[39mWas the CV iterator empty? \u001b[39m\u001b[39m\"\u001b[39m\n\u001b[1;32m    866\u001b[0m         \u001b[39m\"\u001b[39m\u001b[39mWere there no candidates?\u001b[39m\u001b[39m\"\u001b[39m\n\u001b[1;32m    867\u001b[0m     )\n",
      "File \u001b[0;32m~/.pyenv/versions/lewagon/lib/python3.10/site-packages/sklearn/utils/parallel.py:65\u001b[0m, in \u001b[0;36mParallel.__call__\u001b[0;34m(self, iterable)\u001b[0m\n\u001b[1;32m     60\u001b[0m config \u001b[39m=\u001b[39m get_config()\n\u001b[1;32m     61\u001b[0m iterable_with_config \u001b[39m=\u001b[39m (\n\u001b[1;32m     62\u001b[0m     (_with_config(delayed_func, config), args, kwargs)\n\u001b[1;32m     63\u001b[0m     \u001b[39mfor\u001b[39;00m delayed_func, args, kwargs \u001b[39min\u001b[39;00m iterable\n\u001b[1;32m     64\u001b[0m )\n\u001b[0;32m---> 65\u001b[0m \u001b[39mreturn\u001b[39;00m \u001b[39msuper\u001b[39;49m()\u001b[39m.\u001b[39;49m\u001b[39m__call__\u001b[39;49m(iterable_with_config)\n",
      "File \u001b[0;32m~/.pyenv/versions/lewagon/lib/python3.10/site-packages/joblib/parallel.py:1061\u001b[0m, in \u001b[0;36mParallel.__call__\u001b[0;34m(self, iterable)\u001b[0m\n\u001b[1;32m   1058\u001b[0m     \u001b[39mself\u001b[39m\u001b[39m.\u001b[39m_iterating \u001b[39m=\u001b[39m \u001b[39mFalse\u001b[39;00m\n\u001b[1;32m   1060\u001b[0m \u001b[39mwith\u001b[39;00m \u001b[39mself\u001b[39m\u001b[39m.\u001b[39m_backend\u001b[39m.\u001b[39mretrieval_context():\n\u001b[0;32m-> 1061\u001b[0m     \u001b[39mself\u001b[39;49m\u001b[39m.\u001b[39;49mretrieve()\n\u001b[1;32m   1062\u001b[0m \u001b[39m# Make sure that we get a last message telling us we are done\u001b[39;00m\n\u001b[1;32m   1063\u001b[0m elapsed_time \u001b[39m=\u001b[39m time\u001b[39m.\u001b[39mtime() \u001b[39m-\u001b[39m \u001b[39mself\u001b[39m\u001b[39m.\u001b[39m_start_time\n",
      "File \u001b[0;32m~/.pyenv/versions/lewagon/lib/python3.10/site-packages/joblib/parallel.py:938\u001b[0m, in \u001b[0;36mParallel.retrieve\u001b[0;34m(self)\u001b[0m\n\u001b[1;32m    936\u001b[0m \u001b[39mtry\u001b[39;00m:\n\u001b[1;32m    937\u001b[0m     \u001b[39mif\u001b[39;00m \u001b[39mgetattr\u001b[39m(\u001b[39mself\u001b[39m\u001b[39m.\u001b[39m_backend, \u001b[39m'\u001b[39m\u001b[39msupports_timeout\u001b[39m\u001b[39m'\u001b[39m, \u001b[39mFalse\u001b[39;00m):\n\u001b[0;32m--> 938\u001b[0m         \u001b[39mself\u001b[39m\u001b[39m.\u001b[39m_output\u001b[39m.\u001b[39mextend(job\u001b[39m.\u001b[39;49mget(timeout\u001b[39m=\u001b[39;49m\u001b[39mself\u001b[39;49m\u001b[39m.\u001b[39;49mtimeout))\n\u001b[1;32m    939\u001b[0m     \u001b[39melse\u001b[39;00m:\n\u001b[1;32m    940\u001b[0m         \u001b[39mself\u001b[39m\u001b[39m.\u001b[39m_output\u001b[39m.\u001b[39mextend(job\u001b[39m.\u001b[39mget())\n",
      "File \u001b[0;32m~/.pyenv/versions/lewagon/lib/python3.10/site-packages/joblib/_parallel_backends.py:542\u001b[0m, in \u001b[0;36mLokyBackend.wrap_future_result\u001b[0;34m(future, timeout)\u001b[0m\n\u001b[1;32m    539\u001b[0m \u001b[39m\"\"\"Wrapper for Future.result to implement the same behaviour as\u001b[39;00m\n\u001b[1;32m    540\u001b[0m \u001b[39mAsyncResults.get from multiprocessing.\"\"\"\u001b[39;00m\n\u001b[1;32m    541\u001b[0m \u001b[39mtry\u001b[39;00m:\n\u001b[0;32m--> 542\u001b[0m     \u001b[39mreturn\u001b[39;00m future\u001b[39m.\u001b[39;49mresult(timeout\u001b[39m=\u001b[39;49mtimeout)\n\u001b[1;32m    543\u001b[0m \u001b[39mexcept\u001b[39;00m CfTimeoutError \u001b[39mas\u001b[39;00m e:\n\u001b[1;32m    544\u001b[0m     \u001b[39mraise\u001b[39;00m \u001b[39mTimeoutError\u001b[39;00m \u001b[39mfrom\u001b[39;00m \u001b[39me\u001b[39;00m\n",
      "File \u001b[0;32m~/.pyenv/versions/3.10.6/lib/python3.10/concurrent/futures/_base.py:453\u001b[0m, in \u001b[0;36mFuture.result\u001b[0;34m(self, timeout)\u001b[0m\n\u001b[1;32m    450\u001b[0m \u001b[39melif\u001b[39;00m \u001b[39mself\u001b[39m\u001b[39m.\u001b[39m_state \u001b[39m==\u001b[39m FINISHED:\n\u001b[1;32m    451\u001b[0m     \u001b[39mreturn\u001b[39;00m \u001b[39mself\u001b[39m\u001b[39m.\u001b[39m__get_result()\n\u001b[0;32m--> 453\u001b[0m \u001b[39mself\u001b[39;49m\u001b[39m.\u001b[39;49m_condition\u001b[39m.\u001b[39;49mwait(timeout)\n\u001b[1;32m    455\u001b[0m \u001b[39mif\u001b[39;00m \u001b[39mself\u001b[39m\u001b[39m.\u001b[39m_state \u001b[39min\u001b[39;00m [CANCELLED, CANCELLED_AND_NOTIFIED]:\n\u001b[1;32m    456\u001b[0m     \u001b[39mraise\u001b[39;00m CancelledError()\n",
      "File \u001b[0;32m~/.pyenv/versions/3.10.6/lib/python3.10/threading.py:320\u001b[0m, in \u001b[0;36mCondition.wait\u001b[0;34m(self, timeout)\u001b[0m\n\u001b[1;32m    318\u001b[0m \u001b[39mtry\u001b[39;00m:    \u001b[39m# restore state no matter what (e.g., KeyboardInterrupt)\u001b[39;00m\n\u001b[1;32m    319\u001b[0m     \u001b[39mif\u001b[39;00m timeout \u001b[39mis\u001b[39;00m \u001b[39mNone\u001b[39;00m:\n\u001b[0;32m--> 320\u001b[0m         waiter\u001b[39m.\u001b[39;49macquire()\n\u001b[1;32m    321\u001b[0m         gotit \u001b[39m=\u001b[39m \u001b[39mTrue\u001b[39;00m\n\u001b[1;32m    322\u001b[0m     \u001b[39melse\u001b[39;00m:\n",
      "\u001b[0;31mKeyboardInterrupt\u001b[0m: "
     ]
    }
   ],
   "source": [
    "grid_search.fit(X_train, y_train)\n"
   ]
  },
  {
   "cell_type": "code",
   "execution_count": null,
   "metadata": {},
   "outputs": [],
   "source": [
    "best_svr = grid_search.best_estimator_\n",
    "y_pred = best_svr.predict(X_test)\n",
    "\n",
    "# Evaluate the model\n",
    "from sklearn.metrics import mean_squared_error, r2_score\n",
    "\n",
    "mse = mean_squared_error(y_test, y_pred)\n",
    "r2 = r2_score(y_test, y_pred)\n",
    "\n",
    "print(\"Mean Squared Error: \", mse)\n",
    "print(\"R-squared: \", r2)\n"
   ]
  },
  {
   "cell_type": "code",
   "execution_count": null,
   "metadata": {},
   "outputs": [],
   "source": []
  }
 ],
 "metadata": {
  "kernelspec": {
   "display_name": "Python 3",
   "language": "python",
   "name": "python3"
  },
  "language_info": {
   "codemirror_mode": {
    "name": "ipython",
    "version": 3
   },
   "file_extension": ".py",
   "mimetype": "text/x-python",
   "name": "python",
   "nbconvert_exporter": "python",
   "pygments_lexer": "ipython3",
   "version": "3.10.6"
  }
 },
 "nbformat": 4,
 "nbformat_minor": 2
}
